{
 "cells": [
  {
   "cell_type": "markdown",
   "metadata": {
    "slideshow": {
     "slide_type": "slide"
    }
   },
   "source": [
    "# Jupyter Notebooks (with STATA?!)"
   ]
  },
  {
   "cell_type": "markdown",
   "metadata": {
    "slideshow": {
     "slide_type": "slide"
    }
   },
   "source": [
    "## What are Jupyter Notebooks?\n",
    "\n",
    "- A way to do literate programming \n",
    "- Provide code and writing/analysis, on a language agnostic platform\n",
    "    - Meaning that it is not restricted to just one language\n",
    "    - Currently there are so-called kernels for many languages\n",
    "    - Including Stata, Python, R, C, Golang, C++, Fortran and more coming!\n",
    "- Uses the power of Markdown/Latex Math and Code to tell a story and provide an efficient workflow\n",
    "- Convert into several different formats including Latex, HTML, Presentations etc...\n",
    "- The Jupyter engine is also available in other text editors such as Atom and VS Code.\n",
    "- And now available in STATA!"
   ]
  },
  {
   "cell_type": "markdown",
   "metadata": {
    "slideshow": {
     "slide_type": "subslide"
    }
   },
   "source": [
    "## Under the Hood\n",
    "\n",
    "- Jupyter Notebooks are written in python and are themselves a JSON document\n",
    "\n",
    "<img src=\"DeepinScreenshot_select-area_20190107171714.png\" width=600>\n",
    "\n",
    "- Which makes them suited for working on in a browser"
   ]
  },
  {
   "cell_type": "markdown",
   "metadata": {
    "slideshow": {
     "slide_type": "slide"
    }
   },
   "source": [
    "## Extensions\n",
    "\n",
    "- Jupyter can be made to be a full featured IDE (Integrated Development Environment)\n",
    "- Which really means you can get all kinds of nifty things\n",
    "    - Autocompletion\n",
    "    - Multi-cursor support\n",
    "    - Scratchpad \n",
    "    - Highlighting a selected word\n",
    "    - Translation\n",
    "    - Spellcheck"
   ]
  },
  {
   "cell_type": "markdown",
   "metadata": {
    "slideshow": {
     "slide_type": "slide"
    }
   },
   "source": [
    "## Installing Extensions\n",
    "\n",
    "- In order to do this, we need to go to our conda console and type:\n",
    "\n",
    "```\n",
    " conda install -c conda-forge jupyter_contrib_nbextensions \n",
    "```\n",
    "\n",
    "- And restart Jupyter"
   ]
  },
  {
   "cell_type": "markdown",
   "metadata": {
    "slideshow": {
     "slide_type": "subslide"
    }
   },
   "source": [
    "## Markdown\n",
    "\n",
    "- Using the same idea as in markstat that Oscar showed you before."
   ]
  },
  {
   "cell_type": "markdown",
   "metadata": {
    "slideshow": {
     "slide_type": "subslide"
    }
   },
   "source": [
    "## Showing Math\n",
    "\n",
    "- It is possible to show math\n",
    "    - $y_{it} = \\alpha + \\beta\\cdot X$"
   ]
  },
  {
   "cell_type": "markdown",
   "metadata": {
    "slideshow": {
     "slide_type": "slide"
    }
   },
   "source": [
    "## The Stata Kernel\n",
    "\n",
    "- This is a relatively new kernel that is implemented by Kyle Barron, Mauricio Cáceres, and other contributors\n",
    "    - It provides the ability to run code and show graphics, which was previously unavailable for Stata in Jupyter.\n",
    "- Ironically, even though we are using Stata in these presentations, there are other, free, open-source languages that are just as good (if not more powerful) for which dynamic documents have existed for over a decade.\n",
    "- As a small nudge towards getting you to try something like R or Python, here's an addendum that Kyle Barron wrote on this State_kernel page:\n",
    "\n",
    "\n",
    ">As an ardent open-source advocate and someone who actively dislikes using Stata, it somewhat pains me that my work creates value for a proprietary, closed-source program. I hope that this program improves research in a utilitarian way, and shows to new users the scope of the open-source tools that have existed for upwards of a decade."
   ]
  },
  {
   "cell_type": "markdown",
   "metadata": {
    "slideshow": {
     "slide_type": "slide"
    }
   },
   "source": [
    "## Running Code\n",
    "\n",
    "- In this case we will be using the Stata kernel, so we will have Stata running in the background.\n",
    "\n"
   ]
  },
  {
   "cell_type": "code",
   "execution_count": 18,
   "metadata": {
    "ExecuteTime": {
     "end_time": "2019-01-08T00:38:54.473562Z",
     "start_time": "2019-01-08T00:38:54.421640Z"
    },
    "slideshow": {
     "slide_type": "-"
    }
   },
   "outputs": [
    {
     "name": "stdout",
     "output_type": "stream",
     "text": [
      "\n",
      "(1978 Automobile Data)\n",
      "\n",
      "\n",
      "      Source |       SS           df       MS      Number of obs   =        74\n",
      "-------------+----------------------------------   F(2, 71)        =     14.74\n",
      "       Model |   186321280         2  93160639.9   Prob > F        =    0.0000\n",
      "    Residual |   448744116        71  6320339.67   R-squared       =    0.2934\n",
      "-------------+----------------------------------   Adj R-squared   =    0.2735\n",
      "       Total |   635065396        73  8699525.97   Root MSE        =      2514\n",
      "\n",
      "------------------------------------------------------------------------------\n",
      "       price |      Coef.   Std. Err.      t    P>|t|     [95% Conf. Interval]\n",
      "-------------+----------------------------------------------------------------\n",
      "      weight |   1.746559   .6413538     2.72   0.008      .467736    3.025382\n",
      "         mpg |  -49.51222   86.15604    -0.57   0.567    -221.3025     122.278\n",
      "       _cons |   1946.069    3597.05     0.54   0.590    -5226.245    9118.382\n",
      "------------------------------------------------------------------------------\n",
      "(est3 stored)\n",
      "\n",
      "\n",
      "      Source |       SS           df       MS      Number of obs   =        74\n",
      "-------------+----------------------------------   F(3, 70)        =     23.29\n",
      "       Model |   317252881         3   105750960   Prob > F        =    0.0000\n",
      "    Residual |   317812515        70  4540178.78   R-squared       =    0.4996\n",
      "-------------+----------------------------------   Adj R-squared   =    0.4781\n",
      "       Total |   635065396        73  8699525.97   Root MSE        =    2130.8\n",
      "\n",
      "------------------------------------------------------------------------------\n",
      "       price |      Coef.   Std. Err.      t    P>|t|     [95% Conf. Interval]\n",
      "-------------+----------------------------------------------------------------\n",
      "      weight |   3.464706    .630749     5.49   0.000     2.206717    4.722695\n",
      "         mpg |    21.8536   74.22114     0.29   0.769    -126.1758     169.883\n",
      "     foreign |    3673.06   683.9783     5.37   0.000     2308.909    5037.212\n",
      "       _cons |  -5853.696   3376.987    -1.73   0.087    -12588.88    881.4934\n",
      "------------------------------------------------------------------------------\n",
      "(est4 stored)\n"
     ]
    }
   ],
   "source": [
    "sysuse auto\n",
    "eststo: regress price weight mpg\n",
    "eststo: regress price weight mpg foreign"
   ]
  },
  {
   "cell_type": "markdown",
   "metadata": {
    "slideshow": {
     "slide_type": "slide"
    }
   },
   "source": [
    "## Stata Kernel Magics\n",
    "\n",
    "- Many Jupyter kernels have something called magics\n",
    "    - A way to make certain actions easy without having to write too much code\n",
    "    - Stata has some magics that make things a little easier"
   ]
  },
  {
   "cell_type": "markdown",
   "metadata": {
    "slideshow": {
     "slide_type": "subslide"
    }
   },
   "source": [
    "## %browse, %head, %tail\n",
    "\n",
    "- This has the ability to choose varlist, the number of observations and with `if` statements as well"
   ]
  },
  {
   "cell_type": "code",
   "execution_count": 21,
   "metadata": {
    "ExecuteTime": {
     "end_time": "2019-01-08T01:28:36.513737Z",
     "start_time": "2019-01-08T01:28:36.475108Z"
    },
    "ipub": {
     "ignore": true
    },
    "slideshow": {
     "slide_type": "-"
    }
   },
   "outputs": [
    {
     "data": {
      "text/html": [
       "<div>\n",
       "<style scoped>\n",
       "    .dataframe tbody tr th:only-of-type {\n",
       "        vertical-align: middle;\n",
       "    }\n",
       "\n",
       "    .dataframe tbody tr th {\n",
       "        vertical-align: top;\n",
       "    }\n",
       "\n",
       "    .dataframe thead th {\n",
       "        text-align: right;\n",
       "    }\n",
       "</style>\n",
       "<table border=\"1\" class=\"dataframe\">\n",
       "  <thead>\n",
       "    <tr style=\"text-align: right;\">\n",
       "      <th></th>\n",
       "      <th>make</th>\n",
       "      <th>price</th>\n",
       "      <th>mpg</th>\n",
       "      <th>rep78</th>\n",
       "      <th>headroom</th>\n",
       "      <th>trunk</th>\n",
       "      <th>weight</th>\n",
       "      <th>length</th>\n",
       "      <th>turn</th>\n",
       "      <th>displacement</th>\n",
       "      <th>gear_ratio</th>\n",
       "      <th>foreign</th>\n",
       "      <th>_est_est3</th>\n",
       "      <th>_est_est4</th>\n",
       "    </tr>\n",
       "  </thead>\n",
       "  <tbody>\n",
       "    <tr>\n",
       "      <th>1</th>\n",
       "      <td>AMC Concord</td>\n",
       "      <td>4099</td>\n",
       "      <td>22</td>\n",
       "      <td>3</td>\n",
       "      <td>2.5</td>\n",
       "      <td>11</td>\n",
       "      <td>2930</td>\n",
       "      <td>186</td>\n",
       "      <td>40</td>\n",
       "      <td>121</td>\n",
       "      <td>3.5799999</td>\n",
       "      <td>Domestic</td>\n",
       "      <td>1</td>\n",
       "      <td>1</td>\n",
       "    </tr>\n",
       "    <tr>\n",
       "      <th>2</th>\n",
       "      <td>AMC Pacer</td>\n",
       "      <td>4749</td>\n",
       "      <td>17</td>\n",
       "      <td>3</td>\n",
       "      <td>3</td>\n",
       "      <td>11</td>\n",
       "      <td>3350</td>\n",
       "      <td>173</td>\n",
       "      <td>40</td>\n",
       "      <td>258</td>\n",
       "      <td>2.53</td>\n",
       "      <td>Domestic</td>\n",
       "      <td>1</td>\n",
       "      <td>1</td>\n",
       "    </tr>\n",
       "    <tr>\n",
       "      <th>3</th>\n",
       "      <td>AMC Spirit</td>\n",
       "      <td>3799</td>\n",
       "      <td>22</td>\n",
       "      <td>.</td>\n",
       "      <td>3</td>\n",
       "      <td>12</td>\n",
       "      <td>2640</td>\n",
       "      <td>168</td>\n",
       "      <td>35</td>\n",
       "      <td>121</td>\n",
       "      <td>3.0799999</td>\n",
       "      <td>Domestic</td>\n",
       "      <td>1</td>\n",
       "      <td>1</td>\n",
       "    </tr>\n",
       "    <tr>\n",
       "      <th>4</th>\n",
       "      <td>Buick Century</td>\n",
       "      <td>4816</td>\n",
       "      <td>20</td>\n",
       "      <td>3</td>\n",
       "      <td>4.5</td>\n",
       "      <td>16</td>\n",
       "      <td>3250</td>\n",
       "      <td>196</td>\n",
       "      <td>40</td>\n",
       "      <td>196</td>\n",
       "      <td>2.9300001</td>\n",
       "      <td>Domestic</td>\n",
       "      <td>1</td>\n",
       "      <td>1</td>\n",
       "    </tr>\n",
       "    <tr>\n",
       "      <th>5</th>\n",
       "      <td>Buick Electra</td>\n",
       "      <td>7827</td>\n",
       "      <td>15</td>\n",
       "      <td>4</td>\n",
       "      <td>4</td>\n",
       "      <td>20</td>\n",
       "      <td>4080</td>\n",
       "      <td>222</td>\n",
       "      <td>43</td>\n",
       "      <td>350</td>\n",
       "      <td>2.4100001</td>\n",
       "      <td>Domestic</td>\n",
       "      <td>1</td>\n",
       "      <td>1</td>\n",
       "    </tr>\n",
       "    <tr>\n",
       "      <th>6</th>\n",
       "      <td>Buick LeSabre</td>\n",
       "      <td>5788</td>\n",
       "      <td>18</td>\n",
       "      <td>3</td>\n",
       "      <td>4</td>\n",
       "      <td>21</td>\n",
       "      <td>3670</td>\n",
       "      <td>218</td>\n",
       "      <td>43</td>\n",
       "      <td>231</td>\n",
       "      <td>2.73</td>\n",
       "      <td>Domestic</td>\n",
       "      <td>1</td>\n",
       "      <td>1</td>\n",
       "    </tr>\n",
       "    <tr>\n",
       "      <th>7</th>\n",
       "      <td>Buick Opel</td>\n",
       "      <td>4453</td>\n",
       "      <td>26</td>\n",
       "      <td>.</td>\n",
       "      <td>3</td>\n",
       "      <td>10</td>\n",
       "      <td>2230</td>\n",
       "      <td>170</td>\n",
       "      <td>34</td>\n",
       "      <td>304</td>\n",
       "      <td>2.8699999</td>\n",
       "      <td>Domestic</td>\n",
       "      <td>1</td>\n",
       "      <td>1</td>\n",
       "    </tr>\n",
       "    <tr>\n",
       "      <th>8</th>\n",
       "      <td>Buick Regal</td>\n",
       "      <td>5189</td>\n",
       "      <td>20</td>\n",
       "      <td>3</td>\n",
       "      <td>2</td>\n",
       "      <td>16</td>\n",
       "      <td>3280</td>\n",
       "      <td>200</td>\n",
       "      <td>42</td>\n",
       "      <td>196</td>\n",
       "      <td>2.9300001</td>\n",
       "      <td>Domestic</td>\n",
       "      <td>1</td>\n",
       "      <td>1</td>\n",
       "    </tr>\n",
       "    <tr>\n",
       "      <th>9</th>\n",
       "      <td>Buick Riviera</td>\n",
       "      <td>10372</td>\n",
       "      <td>16</td>\n",
       "      <td>3</td>\n",
       "      <td>3.5</td>\n",
       "      <td>17</td>\n",
       "      <td>3880</td>\n",
       "      <td>207</td>\n",
       "      <td>43</td>\n",
       "      <td>231</td>\n",
       "      <td>2.9300001</td>\n",
       "      <td>Domestic</td>\n",
       "      <td>1</td>\n",
       "      <td>1</td>\n",
       "    </tr>\n",
       "    <tr>\n",
       "      <th>10</th>\n",
       "      <td>Buick Skylark</td>\n",
       "      <td>4082</td>\n",
       "      <td>19</td>\n",
       "      <td>3</td>\n",
       "      <td>3.5</td>\n",
       "      <td>13</td>\n",
       "      <td>3400</td>\n",
       "      <td>200</td>\n",
       "      <td>42</td>\n",
       "      <td>231</td>\n",
       "      <td>3.0799999</td>\n",
       "      <td>Domestic</td>\n",
       "      <td>1</td>\n",
       "      <td>1</td>\n",
       "    </tr>\n",
       "  </tbody>\n",
       "</table>\n",
       "</div>"
      ],
      "text/plain": [
       "\n",
       "     +-----------------------------------------------------------------------------------------------------------------------------------------+\n",
       "     | make             price   mpg   rep78   headroom   trunk   weight   length   turn   displa~t   gear_r~o    foreign   _est_e~3   _est_e~4 |\n",
       "     |-----------------------------------------------------------------------------------------------------------------------------------------|\n",
       "  1. | AMC Concord      4,099    22       3        2.5      11    2,930      186     40        121       3.58   Domestic          1          1 |\n",
       "  2. | AMC Pacer        4,749    17       3        3.0      11    3,350      173     40        258       2.53   Domestic          1          1 |\n",
       "  3. | AMC Spirit       3,799    22       .        3.0      12    2,640      168     35        121       3.08   Domestic          1          1 |\n",
       "  4. | Buick Century    4,816    20       3        4.5      16    3,250      196     40        196       2.93   Domestic          1          1 |\n",
       "  5. | Buick Electra    7,827    15       4        4.0      20    4,080      222     43        350       2.41   Domestic          1          1 |\n",
       "     |-----------------------------------------------------------------------------------------------------------------------------------------|\n",
       "  6. | Buick LeSabre    5,788    18       3        4.0      21    3,670      218     43        231       2.73   Domestic          1          1 |\n",
       "  7. | Buick Opel       4,453    26       .        3.0      10    2,230      170     34        304       2.87   Domestic          1          1 |\n",
       "  8. | Buick Regal      5,189    20       3        2.0      16    3,280      200     42        196       2.93   Domestic          1          1 |\n",
       "  9. | Buick Riviera   10,372    16       3        3.5      17    3,880      207     43        231       2.93   Domestic          1          1 |\n",
       " 10. | Buick Skylark    4,082    19       3        3.5      13    3,400      200     42        231       3.08   Domestic          1          1 |\n",
       "     +-----------------------------------------------------------------------------------------------------------------------------------------+\n",
       "\n"
      ]
     },
     "metadata": {},
     "output_type": "display_data"
    }
   ],
   "source": [
    "%head"
   ]
  },
  {
   "cell_type": "markdown",
   "metadata": {
    "slideshow": {
     "slide_type": "subslide"
    }
   },
   "source": [
    "## %html and %latex\n",
    "\n",
    "- This allows the rendering of table during export into html or latex, as well as rendering in the notebook (with HTML only)"
   ]
  },
  {
   "cell_type": "code",
   "execution_count": 32,
   "metadata": {
    "ExecuteTime": {
     "end_time": "2019-01-08T22:29:45.836086Z",
     "start_time": "2019-01-08T22:29:45.689837Z"
    },
    "ipub": {
     "table": {
      "alternate": "gray!20",
      "caption": "A table",
      "label": "tbl:tlabel",
      "placement": "H"
     }
    },
    "slideshow": {
     "slide_type": "subslide"
    }
   },
   "outputs": [
    {
     "data": {
      "text/html": [
       "(tabulating estimates stored by eststo; specify \".\" to tabulate the active results)\n",
       "\n",
       "<table border=\"0\" width=\"*\">\n",
       "<tr><td colspan=5><hr></td></tr>\n",
       "<tr><td>            </td><td>         (1)              </td><td>         (2)              </td><td>         (3)              </td><td>         (4)              </td></tr>\n",
       "<tr><td>            </td><td>       price              </td><td>       price              </td><td>       price              </td><td>       price              </td></tr>\n",
       "<tr><td colspan=5><hr></td></tr>\n",
       "<tr><td>weight      </td><td>       1.747<sup>**</sup> </td><td>       3.465<sup>***</sup></td><td>       1.747<sup>**</sup> </td><td>       3.465<sup>***</sup></td></tr>\n",
       "<tr><td>            </td><td>      (2.72)              </td><td>      (5.49)              </td><td>      (2.72)              </td><td>      (5.49)              </td></tr>\n",
       "<tr><td colspan=5>&nbsp;</td></tr>\n",
       "<tr><td>mpg         </td><td>      -49.51              </td><td>       21.85              </td><td>      -49.51              </td><td>       21.85              </td></tr>\n",
       "<tr><td>            </td><td>     (-0.57)              </td><td>      (0.29)              </td><td>     (-0.57)              </td><td>      (0.29)              </td></tr>\n",
       "<tr><td colspan=5>&nbsp;</td></tr>\n",
       "<tr><td>foreign     </td><td>                          </td><td>      3673.1<sup>***</sup></td><td>                          </td><td>      3673.1<sup>***</sup></td></tr>\n",
       "<tr><td>            </td><td>                          </td><td>      (5.37)              </td><td>                          </td><td>      (5.37)              </td></tr>\n",
       "<tr><td colspan=5>&nbsp;</td></tr>\n",
       "<tr><td>_cons       </td><td>      1946.1              </td><td>     -5853.7              </td><td>      1946.1              </td><td>     -5853.7              </td></tr>\n",
       "<tr><td>            </td><td>      (0.54)              </td><td>     (-1.73)              </td><td>      (0.54)              </td><td>     (-1.73)              </td></tr>\n",
       "<tr><td colspan=5><hr></td></tr>\n",
       "<tr><td><i>N</i>    </td><td>          74              </td><td>          74              </td><td>          74              </td><td>          74              </td></tr>\n",
       "<tr><td colspan=5><hr></td></tr>\n",
       "<tr><td colspan=5>\n",
       "<i>t</i> statistics in parentheses\n",
       "<br /><sup>*</sup> <i>p</i> < 0.05, <sup>**</sup> <i>p</i> < 0.01, <sup>***</sup> <i>p</i> < 0.001\n",
       "</td></tr>\n",
       "</table>\n",
       "\n"
      ],
      "text/plain": [
       "This front-end or document format cannot display HTML"
      ]
     },
     "metadata": {},
     "output_type": "display_data"
    }
   ],
   "source": [
    "%html\n",
    "esttab, html"
   ]
  },
  {
   "cell_type": "markdown",
   "metadata": {
    "slideshow": {
     "slide_type": "slide"
    }
   },
   "source": [
    "## %help\n",
    "\n",
    "- You can use this to get a help file"
   ]
  },
  {
   "cell_type": "code",
   "execution_count": 20,
   "metadata": {
    "ExecuteTime": {
     "end_time": "2019-01-08T01:28:31.129137Z",
     "start_time": "2019-01-08T01:28:29.999311Z"
    },
    "ipub": {
     "ignore": true
    },
    "slideshow": {
     "slide_type": "subslide"
    }
   },
   "outputs": [
    {
     "data": {
      "text/html": [
       "\n",
       "<html>\n",
       "<head>\n",
       "<meta content=\"noindex, nofollow\" name=\"robots\"/>\n",
       "<title>Stata 15 help for reg</title>\n",
       "<link href=\"//www.stata.com/includes/css/stylehelp.css\" rel=\"stylesheet\" type=\"text/css\"/>\n",
       "<style type=\"text/css\">h2 {\n",
       "    font-family: Arial,Helvetica,Helv,sans-serif;\n",
       "    color: #000000;\n",
       "}\n",
       "\n",
       "pre {\n",
       "    margin: 10px;\n",
       "}\n",
       "\n",
       "table {\n",
       "    background-color: transparent;\n",
       "    border-color: transparent;\n",
       "    bgcolor: transparent;\n",
       "}\n",
       "\n",
       "tr {\n",
       "    background-color: transparent;\n",
       "    border-color: transparent;\n",
       "    bgcolor: transparent;\n",
       "}\n",
       "\n",
       "body {\n",
       "    background-color: transparent;\n",
       "    border-color: transparent;\n",
       "    margin: 0px;\n",
       "}\n",
       "\n",
       "div {\n",
       "    background-color: transparent;\n",
       "    border-color: transparent;\n",
       "}\n",
       "</style>\n",
       "</head>\n",
       "<body>\n",
       "\n",
       "<p>\n",
       "<table align=\"center\" bgcolor=\"transparent\" border=\"1\" cellpadding=\"5\" cellspacing=\"0\">\n",
       "<tr bgcolor=\"transparent\"><td align=\"left\" bgcolor=\"transparent\" valign=\"top\">\n",
       "<!-- END HEAD -->\n",
       "\n",
       "<pre>\n",
       "<p>\n",
       "<b>[R] regress</b> -- Linear regression\n",
       "<p>\n",
       "<p>\n",
       "<a name=\"syntax\"></a><b><u>Syntax</u></b>\n",
       "<p>\n",
       "        <b><u>reg</u></b><b>ress</b> <a href=\"https://www.stata.com/help.cgi?depvar\" target=\"_blank\"><i>depvar</i></a> [<a href=\"https://www.stata.com/help.cgi?indepvars\" target=\"_blank\"><i>indepvars</i></a>] [<a href=\"https://www.stata.com/help.cgi?if\" target=\"_blank\"><i>if</i></a>] [<a href=\"https://www.stata.com/help.cgi?in\" target=\"_blank\"><i>in</i></a>] [<a href=\"https://www.stata.com/help.cgi?regress#weight\" target=\"_blank\"><i>weight</i></a>] [<b>,</b> <i>options</i>]\n",
       "<p>\n",
       "    <i>options</i>               Description\n",
       "    -------------------------------------------------------------------------\n",
       "    Model\n",
       "      <b><u>nocons</u></b><b>tant</b>          suppress constant term\n",
       "      <b><u>h</u></b><b>ascons</b>             has user-supplied constant\n",
       "      <b>tsscons</b>             compute total sum of squares with constant; seldom\n",
       "                            used\n",
       "<p>\n",
       "    SE/Robust\n",
       "      <b>vce(</b><a href=\"https://www.stata.com/help.cgi?vcetype\" target=\"_blank\"><i>vcetype</i></a><b>)</b>        <i>vcetype</i> may be <b>ols</b>, <b><u>r</u></b><b>obust</b>, <b><u>cl</u></b><b>uster</b> <i>clustvar</i>,\n",
       "                            <b><u>boot</u></b><b>strap</b>, <b><u>jack</u></b><b>knife</b>, <b>hc2</b>, or <b>hc3</b>\n",
       "<p>\n",
       "    Reporting\n",
       "      <b><u>l</u></b><b>evel(</b><i>#</i><b>)</b>            set confidence level; default is <b>level(95)</b>\n",
       "      <b><u>b</u></b><b>eta</b>                report standardized beta coefficients\n",
       "      <b><u>ef</u></b><b>orm(</b><a href=\"https://www.stata.com/help.cgi?strings\" target=\"_blank\"><i>string</i></a><b>)</b>       report exponentiated coefficients and label as\n",
       "                            <i>string</i>\n",
       "      <b><u>dep</u></b><b>name(</b><a href=\"https://www.stata.com/help.cgi?varname\" target=\"_blank\"><i>varname</i></a><b>)</b>    substitute dependent variable name; programmer's\n",
       "                            option\n",
       "      <a href=\"https://www.stata.com/help.cgi?regress#display_options\" target=\"_blank\"><i>display_options</i></a>     control columns and column formats, row spacing,\n",
       "                            line width, display of omitted variables and base\n",
       "                            and empty cells, and factor-variable labeling\n",
       "<p>\n",
       "      <b><u>nohe</u></b><b>ader</b>            suppress output header\n",
       "      <b><u>notab</u></b><b>le</b>             suppress coefficient table\n",
       "      <b>plus</b>                make table extendable\n",
       "      <b><u>ms</u></b><b>e1</b>                force mean squared error to <b>1</b>\n",
       "      <b><u>coefl</u></b><b>egend</b>          display legend instead of statistics\n",
       "    -------------------------------------------------------------------------\n",
       "    <i>indepvars</i> may contain factor variables; see <a href=\"https://www.stata.com/help.cgi?fvvarlist\" target=\"_blank\">fvvarlist</a>.\n",
       "    <i>depvar</i> and <i>indepvars</i> may contain time-series operators; see <a href=\"https://www.stata.com/help.cgi?tsvarlist\" target=\"_blank\">tsvarlist</a>.\n",
       "    <b>bayes</b>, <b>bootstrap</b>, <b>by</b>, <b>fmm</b>, <b>fp</b>, <b>jackknife</b>, <b>mfp</b>, <b>mi estimate</b>, <b>nestreg</b>,\n",
       "      <b>rolling</b>, <b>statsby</b>, <b>stepwise</b>, and <b>svy</b> are allowed; see <a href=\"https://www.stata.com/help.cgi?prefix\" target=\"_blank\">prefix</a>.  For more\n",
       "      details, see <a href=\"https://www.stata.com/help.cgi?bayes_regress\" target=\"_blank\"><b>[BAYES] bayes: regress</b></a> and <a href=\"https://www.stata.com/help.cgi?fmm_regress\" target=\"_blank\"><b>[FMM] fmm: regress</b></a>.\n",
       "    <b>vce(bootstrap)</b> and <b>vce(jackknife)</b> are not allowed with the <a href=\"https://www.stata.com/help.cgi?mi+estimate\" target=\"_blank\"><b>mi estimate</b></a>\n",
       "      prefix.\n",
       "    Weights are not allowed with the <a href=\"https://www.stata.com/help.cgi?bootstrap\" target=\"_blank\"><b>bootstrap</b></a> prefix.\n",
       "    <b>aweight</b>s are not allowed with the <a href=\"https://www.stata.com/help.cgi?jackknife\" target=\"_blank\"><b>jackknife</b></a> prefix.\n",
       "    <b>hascons</b>, <b>tsscons</b>, <b>vce()</b>, <b>beta</b>, <b>noheader</b>, <b>notable</b>, <b>plus</b>, <b>depname()</b>, <b>mse1</b>,\n",
       "      and weights are not allowed with the <a href=\"https://www.stata.com/help.cgi?svy\" target=\"_blank\"><b>svy</b></a> prefix.\n",
       "<a name=\"weight\"></a>    <b>aweight</b>s, <b>fweight</b>s, <b>iweight</b>s, and <b>pweight</b>s are allowed; see <a href=\"https://www.stata.com/help.cgi?weight\" target=\"_blank\">weight</a>.\n",
       "    <b>noheader</b>, <b>notable</b>, <b>plus</b>, <b>mse1</b>, and <b>coeflegend</b> do not appear in the dialog\n",
       "      box.\n",
       "    See <a href=\"https://www.stata.com/help.cgi?regress_postestimation\" target=\"_blank\"><b>[R] regress postestimation</b></a> for features available after estimation.\n",
       "<p>\n",
       "<p>\n",
       "<a name=\"menu\"></a><b><u>Menu</u></b>\n",
       "<p>\n",
       "    <b>Statistics &gt; Linear models and related &gt; Linear regression</b>\n",
       "<p>\n",
       "<p>\n",
       "<a name=\"description\"></a><b><u>Description</u></b>\n",
       "<p>\n",
       "    <b>regress</b> performs ordinary least-squares linear regression.  <b>regress</b> can\n",
       "    also perform weighted estimation, compute robust and cluster-robust\n",
       "    standard errors, and adjust results for complex survey designs.\n",
       "<p>\n",
       "<p>\n",
       "<a name=\"options\"></a><b><u>Options</u></b>\n",
       "<p>\n",
       "        +-------+\n",
       "    ----+ Model +------------------------------------------------------------\n",
       "<p>\n",
       "    <b>noconstant</b>; see <a href=\"https://www.stata.com/help.cgi?estimation+options#noconstant\" target=\"_blank\"><b>[R] estimation options</b></a>.\n",
       "<p>\n",
       "    <b>hascons</b> indicates that a user-defined constant or its equivalent is\n",
       "        specified among the independent variables in <a href=\"https://www.stata.com/help.cgi?indepvars\" target=\"_blank\"><i>indepvars</i></a>.  Some caution\n",
       "        is recommended when specifying this option, as resulting estimates\n",
       "        may not be as accurate as they otherwise would be.  Use of this\n",
       "        option requires \"sweeping\" the constant last, so the moment matrix\n",
       "        must be accumulated in absolute rather than deviation form.  This\n",
       "        option may be safely specified when the means of the dependent and\n",
       "        independent variables are all reasonable and there is not much\n",
       "        collinearity between the independent variables.  The best procedure\n",
       "        is to view <b>hascons</b> as a reporting option -- estimate with and without\n",
       "        <b>hascons</b> and verify that the coefficients and standard errors of the\n",
       "        variables not affected by the identity of the constant are unchanged.\n",
       "<p>\n",
       "    <b>tsscons</b> forces the total sum of squares to be computed as though the\n",
       "        model has a constant, that is, as deviations from the mean of the\n",
       "        dependent variable.  This is a rarely used option that has an effect\n",
       "        only when specified with <b>noconstant</b>.  It affects the total sum of\n",
       "        squares and all results derived from the total sum of squares.\n",
       "<p>\n",
       "        +-----------+\n",
       "    ----+ SE/Robust +--------------------------------------------------------\n",
       "<p>\n",
       "    <b>vce(</b><i>vcetype</i><b>)</b> specifies the type of standard error reported, which\n",
       "        includes types that are derived from asymptotic theory (<b>ols</b>), that\n",
       "        are robust to some kinds of misspecification (<b>robust</b>), that allow for\n",
       "        intragroup correlation (<b>cluster</b> <i>clustvar</i>), and that use bootstrap or\n",
       "        jackknife methods (<b>bootstrap</b>, <b>jackknife</b>); see <a href=\"https://www.stata.com/help.cgi?vce_option\" target=\"_blank\"><b>[R] </b></a><a href=\"https://www.stata.com/help.cgi?vce_option\" target=\"_blank\"><i>vce_option</i></a>.\n",
       "<p>\n",
       "        <b>vce(ols)</b>, the default, uses the standard variance estimator for\n",
       "        ordinary least-squares regression.\n",
       "<p>\n",
       "        <b>regress</b> also allows the following:\n",
       "<p>\n",
       "        <b>vce(hc2)</b> and <b>vce(hc3)</b> specify an alternative bias correction for the\n",
       "            robust variance calculation.  <b>vce(hc2)</b> and <b>vce(hc3)</b> may not be\n",
       "            specified with the <b>svy</b> prefix.  In the unclustered case,\n",
       "            <b>vce(robust)</b> uses (sigma-hat_j)^2={n/(n-k)}(u_j)^2 as an estimate\n",
       "            of the variance of the jth observation, where u_j is the\n",
       "            calculated residual and n/(n-k) is included to improve the\n",
       "            overall estimate's small-sample properties.\n",
       "<p>\n",
       "            <b>vce(hc2)</b> instead uses u_j^2/(1-h_jj) as the observation's\n",
       "            variance estimate, where h_jj is the diagonal element of the hat\n",
       "            (projection) matrix.  This estimate is unbiased if the model\n",
       "            really is homoskedastic.  <b>vce(hc2)</b> tends to produce slightly more\n",
       "            conservative confidence intervals.\n",
       "<p>\n",
       "            <b>vce(hc3)</b> uses u_j^2/(1-h_jj)^2 as suggested by <a href=\"https://www.stata.com/help.cgi?regress#DM1993\" target=\"_blank\">Davidson and</a>\n",
       "            <a href=\"https://www.stata.com/help.cgi?regress#DM1993\" target=\"_blank\">MacKinnon (1993)</a>, who report that this method tends to produce\n",
       "            better results when the model really is heteroskedastic.\n",
       "            <b>vce(hc3)</b> produces confidence intervals that tend to be even more\n",
       "            conservative.\n",
       "<p>\n",
       "            See <a href=\"https://www.stata.com/help.cgi?regress#DM1993\" target=\"_blank\">Davidson and MacKinnon (1993, 554-556)</a> and <a href=\"https://www.stata.com/help.cgi?regress#AP2009\" target=\"_blank\">Angrist and</a>\n",
       "            <a href=\"https://www.stata.com/help.cgi?regress#AP2009\" target=\"_blank\">Pischke (2009, 294-308)</a> for more discussion on these two bias\n",
       "            corrections.\n",
       "<p>\n",
       "        +-----------+\n",
       "    ----+ Reporting +--------------------------------------------------------\n",
       "<p>\n",
       "    <b>level(</b><i>#</i><b>)</b>; see <a href=\"https://www.stata.com/help.cgi?estimation+options#level()\" target=\"_blank\"><b>[R] estimation options</b></a>.\n",
       "<p>\n",
       "    <b>beta</b> asks that standardized beta coefficients be reported instead of\n",
       "        confidence intervals.  The beta coefficients are the regression\n",
       "        coefficients obtained by first standardizing all variables to have a\n",
       "        mean of 0 and a standard deviation of 1.  <b>beta</b> may not be specified\n",
       "        with <b>vce(cluster</b> <i>clustvar</i><b>)</b> or the <b>svy</b> prefix.\n",
       "<p>\n",
       "    <b>eform(</b><a href=\"https://www.stata.com/help.cgi?strings\" target=\"_blank\"><i>string</i></a><b>)</b> is used only in programs and ado-files that use <b>regress</b> to\n",
       "        fit models other than linear regression.  <b>eform()</b> specifies that the\n",
       "        coefficient table be displayed in exponentiated form as defined in\n",
       "        <a href=\"https://www.stata.com/help.cgi?maximize\" target=\"_blank\"><b>[R] maximize</b></a> and that <i>string</i> be used to label the exponentiated\n",
       "        coefficients in the table.\n",
       "<p>\n",
       "    <b>depname(</b><a href=\"https://www.stata.com/help.cgi?varname\" target=\"_blank\"><i>varname</i></a><b>)</b> is used only in programs and ado-files that use <b>regress</b>\n",
       "        to fit models other than linear regression.  <b>depname()</b> may be\n",
       "        specified only at estimation time.  <i>varname</i> is recorded as the\n",
       "        identity of the dependent variable, even though the estimates are\n",
       "        calculated using <a href=\"https://www.stata.com/help.cgi?depvar\" target=\"_blank\"><i>depvar</i></a>.  This method affects the labeling of the\n",
       "        output -- not the results calculated -- but could affect subsequent\n",
       "        calculations made by <b>predict</b>, where the residual would be calculated\n",
       "        as deviations from <i>varname</i> rather than <i>depvar</i>.  <b>depname()</b> is most\n",
       "        typically used when <i>depvar</i> is a temporary variable (see <a href=\"https://www.stata.com/help.cgi?macro\" target=\"_blank\"><b>[P] macro</b></a>)\n",
       "        used as a proxy for <i>varname</i>.\n",
       "<p>\n",
       "        <b>depname()</b> is not allowed with the <b>svy</b> prefix.\n",
       "<p>\n",
       "<a name=\"display_options\"></a>    <i>display_options</i>:  <b>noci</b>, <b><u>nopv</u></b><b>alues</b>, <b><u>noomit</u></b><b>ted</b>, <b>vsquish</b>, <b><u>noempty</u></b><b>cells</b>,\n",
       "        <b><u>base</u></b><b>levels</b>, <b><u>allbase</u></b><b>levels</b>, <b><u>nofvlab</u></b><b>el</b>, <b>fvwrap(</b><i>#</i><b>)</b>, <b>fvwrapon(</b><i>style</i><b>)</b>,\n",
       "        <b>cformat(</b><a href=\"https://www.stata.com/help.cgi?%fmt\" target=\"_blank\"><i>%fmt</i></a><b>)</b>, <b>pformat(%</b><i>fmt</i><b>)</b>, <b>sformat(%</b><i>fmt</i><b>)</b>, and <b>nolstretch</b>; see <a href=\"https://www.stata.com/help.cgi?estimation+options#display_options\" target=\"_blank\"><b>[R]</b></a>\n",
       "        <a href=\"https://www.stata.com/help.cgi?estimation+options#display_options\" target=\"_blank\"><b>estimation options</b></a>.\n",
       "<p>\n",
       "    The following options are available with <b>regress</b> but are not shown in the\n",
       "    dialog box:\n",
       "<p>\n",
       "    <b>noheader</b> suppresses the display of the ANOVA table and summary statistics\n",
       "        at the top of the output; only the coefficient table is displayed.\n",
       "        This option is often used in programs and ado-files.\n",
       "<p>\n",
       "    <b>notable</b> suppresses display of the coefficient table.\n",
       "<p>\n",
       "    <b>plus</b> specifies that the output table be made extendable.  This option is\n",
       "        often used in programs and ado-files.\n",
       "<p>\n",
       "    <b>mse1</b> is used only in programs and ado-files that use <b>regress</b> to fit\n",
       "        models other than linear regression and is not allowed with the <a href=\"https://www.stata.com/help.cgi?svy\" target=\"_blank\"><b>svy</b></a>\n",
       "        prefix.  <b>mse1</b> sets the mean squared error to <b>1</b>, forcing the\n",
       "        variance-covariance matrix of the estimators to be (X'X)^-1 (see\n",
       "        <i>Methods and formulas</i> in <b>[R] regress</b>) and affecting calculated\n",
       "        standard errors.  Degrees of freedom for t statistics is calculated\n",
       "        as n rather than n-k.\n",
       "<p>\n",
       "    <b>coeflegend</b>; see <a href=\"https://www.stata.com/help.cgi?estimation+options#coeflegend\" target=\"_blank\"><b>[R] estimation options</b></a>.\n",
       "<p>\n",
       "<p>\n",
       "<a name=\"examples\"></a><b><u>Examples:  linear regression</u></b>\n",
       "<p>\n",
       "    Setup\n",
       "        <b>. sysuse auto</b>\n",
       "<p>\n",
       "    Fit a linear regression\n",
       "        <b>. regress mpg weight foreign</b>\n",
       "<p>\n",
       "    Fit a better linear regression, from a physics standpoint\n",
       "        <b>. gen gp100m = 100/mpg</b>\n",
       "        <b>. regress gp100m weight foreign</b>\n",
       "<p>\n",
       "    Obtain beta coefficients without refitting model\n",
       "        <b>. regress, beta</b>\n",
       "<p>\n",
       "    Suppress intercept term\n",
       "        <b>. regress weight length, noconstant</b>\n",
       "<p>\n",
       "    Model already has constant\n",
       "        <b>. regress weight length bn.foreign, hascons</b>\n",
       "<p>\n",
       "<p>\n",
       "<b><u>Examples:  regression with robust standard errors</u></b>\n",
       "<p>\n",
       "        -----------------------------------------------------------------------\n",
       "        <b>. sysuse auto, clear</b>\n",
       "        <b>. generate gpmw = ((1/mpg)/weight)*100*1000</b>\n",
       "        <b>. regress gpmw foreign</b>\n",
       "        <b>. regress gpmw foreign, vce(robust)</b>\n",
       "        <b>. regress gpmw foreign, vce(hc2)</b>\n",
       "        <b>. regress gpmw foreign, vce(hc3)</b>\n",
       "        -----------------------------------------------------------------------\n",
       "        <b>. webuse regsmpl, clear</b>\n",
       "        <b>. regress ln_wage age c.age#c.age tenure, vce(cluster id)</b>\n",
       "        -----------------------------------------------------------------------\n",
       "<p>\n",
       "<p>\n",
       "<b><u>Example:  weighted regression</u></b>\n",
       "<p>\n",
       "        <b>. sysuse census</b>\n",
       "        <b>. regress death medage i.region [aw=pop]</b>\n",
       "<p>\n",
       "<p>\n",
       "<b><u>Examples:  linear regression with survey data</u></b>\n",
       "<p>\n",
       "    Setup\n",
       "        <b>. webuse highschool</b>\n",
       "<p>\n",
       "    Perform linear regression using survey data\n",
       "        <b>. svy: regress weight height</b>\n",
       "<p>\n",
       "    Setup\n",
       "        <b>. generate male = sex == 1 if !missing(sex)</b>\n",
       "<p>\n",
       "    Perform linear regression using survey data for a subpopulation\n",
       "        <b>. svy, subpop(male): regress weight height</b>\n",
       "<p>\n",
       "<p>\n",
       "<a name=\"video\"></a><b><u>Video example</u></b>\n",
       "<p>\n",
       "    Simple linear regression in Stata\n",
       "<p>\n",
       "<p>\n",
       "<a name=\"results\"></a><b><u>Stored results</u></b>\n",
       "<p>\n",
       "    <b>regress</b> stores the following in <b>e()</b>:\n",
       "<p>\n",
       "    Scalars        \n",
       "      <b>e(N)</b>                number of observations\n",
       "      <b>e(mss)</b>              model sum of squares\n",
       "      <b>e(df_m)</b>             model degrees of freedom\n",
       "      <b>e(rss)</b>              residual sum of squares\n",
       "      <b>e(df_r)</b>             residual degrees of freedom\n",
       "      <b>e(r2)</b>               R-squared\n",
       "      <b>e(r2_a)</b>             adjusted R-squared\n",
       "      <b>e(F)</b>                F statistic\n",
       "      <b>e(rmse)</b>             root mean squared error\n",
       "      <b>e(ll)</b>               log likelihood under additional assumption of\n",
       "                            i.i.d. normal errors\n",
       "      <b>e(ll_0)</b>             log likelihood, constant-only model\n",
       "      <b>e(N_clust)</b>          number of clusters\n",
       "      <b>e(rank)</b>             rank of <b>e(V)</b>\n",
       "<p>\n",
       "    Macros         \n",
       "      <b>e(cmd)</b>              <b>regress</b>\n",
       "      <b>e(cmdline)</b>          command as typed\n",
       "      <b>e(depvar)</b>           name of dependent variable\n",
       "      <b>e(wtype)</b>            weight type\n",
       "      <b>e(wexp)</b>             weight expression\n",
       "      <b>e(model)</b>            <b>ols</b>\n",
       "      <b>e(title)</b>            title in estimation output when <b>vce()</b> is not <b>ols</b>\n",
       "      <b>e(clustvar)</b>         name of cluster variable\n",
       "      <b>e(vce)</b>              <i>vcetype</i> specified in <b>vce()</b>\n",
       "      <b>e(vcetype)</b>          title used to label Std. Err.\n",
       "      <b>e(properties)</b>       <b>b V</b>\n",
       "      <b>e(estat_cmd)</b>        program used to implement <b>estat</b>\n",
       "      <b>e(predict)</b>          program used to implement <b>predict</b>\n",
       "      <b>e(marginsok)</b>        predictions allowed by <b>margins</b>\n",
       "      <b>e(asbalanced)</b>       factor variables <b>fvset</b> as <b>asbalanced</b>\n",
       "      <b>e(asobserved)</b>       factor variables <b>fvset</b> as <b>asobserved</b>\n",
       "<p>\n",
       "    Matrices       \n",
       "      <b>e(b)</b>                coefficient vector\n",
       "      <b>e(V)</b>                variance-covariance matrix of the estimators\n",
       "      <b>e(V_modelbased)</b>     model-based variance\n",
       "<p>\n",
       "    Functions      \n",
       "      <b>e(sample)</b>           marks estimation sample\n",
       "<p>\n",
       "<p>\n",
       "<a name=\"references\"></a><b><u>References</u></b>\n",
       "<p>\n",
       "<a name=\"AP2009\"></a>    Angrist, J. D., and J.-S. Pischke. 2009.  <i>Mostly Harmless Econometrics:</i>\n",
       "        <i>An Empiricist's Companion</i>.  Princeton, NJ: Princeton University\n",
       "        Press.\n",
       "<p>\n",
       "<a name=\"DM1993\"></a>    Davidson, R., and J. G. MacKinnon. 1993.  <i>Estimation and Inference in</i>\n",
       "        <i>Econometrics</i>.  New York: Oxford University Press.\n",
       "<p>\n",
       "</p></p></p></p></p></p></p></p></p></p></p></p></p></p></p></p></p></p></p></p></p></p></p></p></p></p></p></p></p></p></p></p></p></p></p></p></p></p></p></p></p></p></p></p></p></p></p></p></p></p></p></p></p></p></p></p></p></p></p></p></p></p></p></p></p></p></p></p></p></p></p></p></p></p></p></p></pre>\n",
       "<!-- BEGIN FOOT -->\n",
       "</td></tr></table>\n",
       "\n",
       "\n",
       "</p></body>\n",
       "</html>\n"
      ],
      "text/plain": [
       "This front-end cannot display HTML help."
      ]
     },
     "metadata": {},
     "output_type": "display_data"
    }
   ],
   "source": [
    "%help reg"
   ]
  },
  {
   "cell_type": "code",
   "execution_count": 31,
   "metadata": {
    "ExecuteTime": {
     "end_time": "2019-01-08T22:29:31.057871Z",
     "start_time": "2019-01-08T22:29:27.867505Z"
    },
    "ipub": {
     "table": {
      "alternate": "gray!20",
      "caption": "A regression table or something",
      "label": "tbl:tlabelreg2",
      "placement": "H"
     }
    },
    "slideshow": {
     "slide_type": "slide"
    }
   },
   "outputs": [
    {
     "data": {
      "text/html": [
       "\n",
       "\n",
       "\n",
       "\n",
       "\n",
       "<table border=\"0\" width=\"*\">\n",
       "<tr><td colspan=2><hr></td></tr>\n",
       "<tr><td>            </td><td>         (1)              </td></tr>\n",
       "<tr><td>            </td><td>       price              </td></tr>\n",
       "<tr><td colspan=2><hr></td></tr>\n",
       "<tr><td>mpg         </td><td>      -49.51              </td></tr>\n",
       "<tr><td>            </td><td>     (-0.57)              </td></tr>\n",
       "<tr><td colspan=2>&nbsp;</td></tr>\n",
       "<tr><td>weight      </td><td>       1.747<sup>**</sup> </td></tr>\n",
       "<tr><td>            </td><td>      (2.72)              </td></tr>\n",
       "<tr><td colspan=2>&nbsp;</td></tr>\n",
       "<tr><td>_cons       </td><td>      1946.1              </td></tr>\n",
       "<tr><td>            </td><td>      (0.54)              </td></tr>\n",
       "<tr><td colspan=2><hr></td></tr>\n",
       "<tr><td><i>N</i>    </td><td>          74              </td></tr>\n",
       "<tr><td colspan=2><hr></td></tr>\n",
       "<tr><td colspan=2>\n",
       "<i>t</i> statistics in parentheses\n",
       "<br /><sup>*</sup> <i>p</i> < 0.05, <sup>**</sup> <i>p</i> < 0.01, <sup>***</sup> <i>p</i> < 0.001\n",
       "</td></tr>\n",
       "</table>\n",
       "\n"
      ],
      "text/plain": [
       "This front-end or document format cannot display HTML"
      ]
     },
     "metadata": {},
     "output_type": "display_data"
    }
   ],
   "source": [
    "%html\n",
    "qui: ssc install outreg2\n",
    "qui: regress price mpg weight\n",
    "qui: estimates store reg1\n",
    "*outreg2 using \"regression.html\", ctitle(\"OLS\")  dec(4) bdec(4) tdec(4) rdec(4) alpha(.01, .05, .1) text replace \n",
    "esttab reg1, html"
   ]
  },
  {
   "cell_type": "code",
   "execution_count": 4,
   "metadata": {
    "ExecuteTime": {
     "end_time": "2019-01-07T23:38:14.899916Z",
     "start_time": "2019-01-07T23:38:14.564962Z"
    },
    "ipub": {
     "figure": {
      "caption": "A scatter plot",
      "height": 0.4,
      "label": "fig:flabel",
      "placement": "H",
      "widefigure": false
     }
    },
    "slideshow": {
     "slide_type": "subslide"
    }
   },
   "outputs": [
    {
     "data": {
      "application/pdf": "[encoded data removed]",
      "image/svg+xml": [
       "<?xml version=\"1.0\" encoding=\"UTF-8\" standalone=\"no\"?>\n",
       "<!-- This is a Stata 15.0 generated SVG file (http://www.stata.com) -->\n",
       "\n",
       "<svg version=\"1.1\" width=\"600px\" height=\"436px\" viewBox=\"0 0 3960 2880\" xmlns=\"http://www.w3.org/2000/svg\" xmlns:xlink=\"http://www.w3.org/1999/xlink\">\n",
       "\t<desc>Stata Graph - Graph</desc>\n",
       "\t<rect x=\"0\" y=\"0\" width=\"3960\" height=\"2880\" style=\"fill:#EAF2F3;stroke:none\"/>\n",
       "\t<rect x=\"0.00\" y=\"0.00\" width=\"3959.88\" height=\"2880.00\" style=\"fill:#EAF2F3\"/>\n",
       "\t<rect x=\"2.88\" y=\"2.88\" width=\"3954.12\" height=\"2874.24\" style=\"fill:none;stroke:#EAF2F3;stroke-width:5.76\"/>\n",
       "\t<rect x=\"390.80\" y=\"100.86\" width=\"3468.22\" height=\"2388.33\" style=\"fill:#FFFFFF\"/>\n",
       "\t<rect x=\"393.68\" y=\"103.74\" width=\"3462.46\" height=\"2382.57\" style=\"fill:none;stroke:#FFFFFF;stroke-width:5.76\"/>\n",
       "\t<line x1=\"390.80\" y1=\"2425.82\" x2=\"3859.02\" y2=\"2425.82\" style=\"stroke:#EAF2F3;stroke-width:8.64\"/>\n",
       "\t<line x1=\"390.80\" y1=\"1696.29\" x2=\"3859.02\" y2=\"1696.29\" style=\"stroke:#EAF2F3;stroke-width:8.64\"/>\n",
       "\t<line x1=\"390.80\" y1=\"966.64\" x2=\"3859.02\" y2=\"966.64\" style=\"stroke:#EAF2F3;stroke-width:8.64\"/>\n",
       "\t<line x1=\"390.80\" y1=\"237.11\" x2=\"3859.02\" y2=\"237.11\" style=\"stroke:#EAF2F3;stroke-width:8.64\"/>\n",
       "\t<circle cx=\"1660.72\" cy=\"1550.39\" r=\"26.35\" style=\"fill:#1A476F\"/>\n",
       "\t<circle cx=\"1660.72\" cy=\"1550.39\" r=\"22.03\" style=\"fill:none;stroke:#1A476F;stroke-width:8.64\"/>\n",
       "\t<circle cx=\"2093.97\" cy=\"1915.21\" r=\"26.35\" style=\"fill:#1A476F\"/>\n",
       "\t<circle cx=\"2093.97\" cy=\"1915.21\" r=\"22.03\" style=\"fill:none;stroke:#1A476F;stroke-width:8.64\"/>\n",
       "\t<circle cx=\"1361.62\" cy=\"1550.39\" r=\"26.35\" style=\"fill:#1A476F\"/>\n",
       "\t<circle cx=\"1361.62\" cy=\"1550.39\" r=\"22.03\" style=\"fill:none;stroke:#1A476F;stroke-width:8.64\"/>\n",
       "\t<circle cx=\"1990.77\" cy=\"1696.29\" r=\"26.35\" style=\"fill:#1A476F\"/>\n",
       "\t<circle cx=\"1990.77\" cy=\"1696.29\" r=\"22.03\" style=\"fill:none;stroke:#1A476F;stroke-width:8.64\"/>\n",
       "\t<circle cx=\"2846.87\" cy=\"2061.12\" r=\"26.35\" style=\"fill:#1A476F\"/>\n",
       "\t<circle cx=\"2846.87\" cy=\"2061.12\" r=\"22.03\" style=\"fill:none;stroke:#1A476F;stroke-width:8.64\"/>\n",
       "\t<circle cx=\"2424.01\" cy=\"1842.20\" r=\"26.35\" style=\"fill:#1A476F\"/>\n",
       "\t<circle cx=\"2424.01\" cy=\"1842.20\" r=\"22.03\" style=\"fill:none;stroke:#1A476F;stroke-width:8.64\"/>\n",
       "\t<circle cx=\"938.77\" cy=\"1258.58\" r=\"26.35\" style=\"fill:#1A476F\"/>\n",
       "\t<circle cx=\"938.77\" cy=\"1258.58\" r=\"22.03\" style=\"fill:none;stroke:#1A476F;stroke-width:8.64\"/>\n",
       "\t<circle cx=\"2021.70\" cy=\"1696.29\" r=\"26.35\" style=\"fill:#1A476F\"/>\n",
       "\t<circle cx=\"2021.70\" cy=\"1696.29\" r=\"22.03\" style=\"fill:none;stroke:#1A476F;stroke-width:8.64\"/>\n",
       "\t<circle cx=\"2640.58\" cy=\"1988.11\" r=\"26.35\" style=\"fill:#1A476F\"/>\n",
       "\t<circle cx=\"2640.58\" cy=\"1988.11\" r=\"22.03\" style=\"fill:none;stroke:#1A476F;stroke-width:8.64\"/>\n",
       "\t<circle cx=\"2145.45\" cy=\"1769.31\" r=\"26.35\" style=\"fill:#1A476F\"/>\n",
       "\t<circle cx=\"2145.45\" cy=\"1769.31\" r=\"22.03\" style=\"fill:none;stroke:#1A476F;stroke-width:8.64\"/>\n",
       "\t<circle cx=\"3104.64\" cy=\"2134.14\" r=\"26.35\" style=\"fill:#1A476F\"/>\n",
       "\t<circle cx=\"3104.64\" cy=\"2134.14\" r=\"22.03\" style=\"fill:none;stroke:#1A476F;stroke-width:8.64\"/>\n",
       "\t<circle cx=\"2661.12\" cy=\"2134.14\" r=\"26.35\" style=\"fill:#1A476F\"/>\n",
       "\t<circle cx=\"2661.12\" cy=\"2134.14\" r=\"22.03\" style=\"fill:none;stroke:#1A476F;stroke-width:8.64\"/>\n",
       "\t<circle cx=\"3063.43\" cy=\"1623.40\" r=\"26.35\" style=\"fill:#1A476F\"/>\n",
       "\t<circle cx=\"3063.43\" cy=\"1623.40\" r=\"22.03\" style=\"fill:none;stroke:#1A476F;stroke-width:8.64\"/>\n",
       "\t<circle cx=\"815.02\" cy=\"1039.66\" r=\"26.35\" style=\"fill:#1A476F\"/>\n",
       "\t<circle cx=\"815.02\" cy=\"1039.66\" r=\"22.03\" style=\"fill:none;stroke:#1A476F;stroke-width:8.64\"/>\n",
       "\t<circle cx=\"2444.56\" cy=\"1988.11\" r=\"26.35\" style=\"fill:#1A476F\"/>\n",
       "\t<circle cx=\"2444.56\" cy=\"1988.11\" r=\"22.03\" style=\"fill:none;stroke:#1A476F;stroke-width:8.64\"/>\n",
       "\t<circle cx=\"1918.62\" cy=\"1550.39\" r=\"26.35\" style=\"fill:#1A476F\"/>\n",
       "\t<circle cx=\"1918.62\" cy=\"1550.39\" r=\"22.03\" style=\"fill:none;stroke:#1A476F;stroke-width:8.64\"/>\n",
       "\t<circle cx=\"1959.83\" cy=\"1550.39\" r=\"26.35\" style=\"fill:#1A476F\"/>\n",
       "\t<circle cx=\"1959.83\" cy=\"1550.39\" r=\"22.03\" style=\"fill:none;stroke:#1A476F;stroke-width:8.64\"/>\n",
       "\t<circle cx=\"1475.10\" cy=\"1404.48\" r=\"26.35\" style=\"fill:#1A476F\"/>\n",
       "\t<circle cx=\"1475.10\" cy=\"1404.48\" r=\"22.03\" style=\"fill:none;stroke:#1A476F;stroke-width:8.64\"/>\n",
       "\t<circle cx=\"2176.39\" cy=\"1769.31\" r=\"26.35\" style=\"fill:#1A476F\"/>\n",
       "\t<circle cx=\"2176.39\" cy=\"1769.31\" r=\"22.03\" style=\"fill:none;stroke:#1A476F;stroke-width:8.64\"/>\n",
       "\t<circle cx=\"825.41\" cy=\"966.77\" r=\"26.35\" style=\"fill:#1A476F\"/>\n",
       "\t<circle cx=\"825.41\" cy=\"966.77\" r=\"22.03\" style=\"fill:none;stroke:#1A476F;stroke-width:8.64\"/>\n",
       "\t<circle cx=\"2351.74\" cy=\"1842.20\" r=\"26.35\" style=\"fill:#1A476F\"/>\n",
       "\t<circle cx=\"2351.74\" cy=\"1842.20\" r=\"22.03\" style=\"fill:none;stroke:#1A476F;stroke-width:8.64\"/>\n",
       "\t<circle cx=\"2351.74\" cy=\"1988.11\" r=\"26.35\" style=\"fill:#1A476F\"/>\n",
       "\t<circle cx=\"2351.74\" cy=\"1988.11\" r=\"22.03\" style=\"fill:none;stroke:#1A476F;stroke-width:8.64\"/>\n",
       "\t<circle cx=\"2496.16\" cy=\"1915.21\" r=\"26.35\" style=\"fill:#1A476F\"/>\n",
       "\t<circle cx=\"2496.16\" cy=\"1915.21\" r=\"22.03\" style=\"fill:none;stroke:#1A476F;stroke-width:8.64\"/>\n",
       "\t<circle cx=\"495.37\" cy=\"1112.67\" r=\"26.35\" style=\"fill:#1A476F\"/>\n",
       "\t<circle cx=\"495.37\" cy=\"1112.67\" r=\"22.03\" style=\"fill:none;stroke:#1A476F;stroke-width:8.64\"/>\n",
       "\t<circle cx=\"1372.02\" cy=\"1623.40\" r=\"26.35\" style=\"fill:#1A476F\"/>\n",
       "\t<circle cx=\"1372.02\" cy=\"1623.40\" r=\"22.03\" style=\"fill:none;stroke:#1A476F;stroke-width:8.64\"/>\n",
       "\t<circle cx=\"3630.70\" cy=\"2280.04\" r=\"26.35\" style=\"fill:#1A476F\"/>\n",
       "\t<circle cx=\"3630.70\" cy=\"2280.04\" r=\"22.03\" style=\"fill:none;stroke:#1A476F;stroke-width:8.64\"/>\n",
       "\t<circle cx=\"3506.83\" cy=\"2280.04\" r=\"26.35\" style=\"fill:#1A476F\"/>\n",
       "\t<circle cx=\"3506.83\" cy=\"2280.04\" r=\"22.03\" style=\"fill:none;stroke:#1A476F;stroke-width:8.64\"/>\n",
       "\t<circle cx=\"2588.97\" cy=\"2134.14\" r=\"26.35\" style=\"fill:#1A476F\"/>\n",
       "\t<circle cx=\"2588.97\" cy=\"2134.14\" r=\"22.03\" style=\"fill:none;stroke:#1A476F;stroke-width:8.64\"/>\n",
       "\t<circle cx=\"1299.75\" cy=\"1550.39\" r=\"26.35\" style=\"fill:#1A476F\"/>\n",
       "\t<circle cx=\"1299.75\" cy=\"1550.39\" r=\"22.03\" style=\"fill:none;stroke:#1A476F;stroke-width:8.64\"/>\n",
       "\t<circle cx=\"2826.20\" cy=\"2134.14\" r=\"26.35\" style=\"fill:#1A476F\"/>\n",
       "\t<circle cx=\"2826.20\" cy=\"2134.14\" r=\"22.03\" style=\"fill:none;stroke:#1A476F;stroke-width:8.64\"/>\n",
       "\t<circle cx=\"2475.49\" cy=\"2061.12\" r=\"26.35\" style=\"fill:#1A476F\"/>\n",
       "\t<circle cx=\"2475.49\" cy=\"2061.12\" r=\"22.03\" style=\"fill:none;stroke:#1A476F;stroke-width:8.64\"/>\n",
       "\t<circle cx=\"2114.52\" cy=\"1842.20\" r=\"26.35\" style=\"fill:#1A476F\"/>\n",
       "\t<circle cx=\"2114.52\" cy=\"1842.20\" r=\"22.03\" style=\"fill:none;stroke:#1A476F;stroke-width:8.64\"/>\n",
       "\t<circle cx=\"2898.35\" cy=\"2134.14\" r=\"26.35\" style=\"fill:#1A476F\"/>\n",
       "\t<circle cx=\"2898.35\" cy=\"2134.14\" r=\"22.03\" style=\"fill:none;stroke:#1A476F;stroke-width:8.64\"/>\n",
       "\t<circle cx=\"1557.64\" cy=\"1696.29\" r=\"26.35\" style=\"fill:#1A476F\"/>\n",
       "\t<circle cx=\"1557.64\" cy=\"1696.29\" r=\"22.03\" style=\"fill:none;stroke:#1A476F;stroke-width:8.64\"/>\n",
       "\t<circle cx=\"2826.20\" cy=\"1623.40\" r=\"26.35\" style=\"fill:#1A476F\"/>\n",
       "\t<circle cx=\"2826.20\" cy=\"1623.40\" r=\"22.03\" style=\"fill:none;stroke:#1A476F;stroke-width:8.64\"/>\n",
       "\t<circle cx=\"2052.64\" cy=\"1769.31\" r=\"26.35\" style=\"fill:#1A476F\"/>\n",
       "\t<circle cx=\"2052.64\" cy=\"1769.31\" r=\"22.03\" style=\"fill:none;stroke:#1A476F;stroke-width:8.64\"/>\n",
       "\t<circle cx=\"2042.37\" cy=\"1769.31\" r=\"26.35\" style=\"fill:#1A476F\"/>\n",
       "\t<circle cx=\"2042.37\" cy=\"1769.31\" r=\"22.03\" style=\"fill:none;stroke:#1A476F;stroke-width:8.64\"/>\n",
       "\t<circle cx=\"2444.56\" cy=\"1842.20\" r=\"26.35\" style=\"fill:#1A476F\"/>\n",
       "\t<circle cx=\"2444.56\" cy=\"1842.20\" r=\"22.03\" style=\"fill:none;stroke:#1A476F;stroke-width:8.64\"/>\n",
       "\t<circle cx=\"2114.52\" cy=\"1769.31\" r=\"26.35\" style=\"fill:#1A476F\"/>\n",
       "\t<circle cx=\"2114.52\" cy=\"1769.31\" r=\"22.03\" style=\"fill:none;stroke:#1A476F;stroke-width:8.64\"/>\n",
       "\t<circle cx=\"1454.43\" cy=\"1404.48\" r=\"26.35\" style=\"fill:#1A476F\"/>\n",
       "\t<circle cx=\"1454.43\" cy=\"1404.48\" r=\"22.03\" style=\"fill:none;stroke:#1A476F;stroke-width:8.64\"/>\n",
       "\t<circle cx=\"2795.26\" cy=\"1988.11\" r=\"26.35\" style=\"fill:#1A476F\"/>\n",
       "\t<circle cx=\"2795.26\" cy=\"1988.11\" r=\"22.03\" style=\"fill:none;stroke:#1A476F;stroke-width:8.64\"/>\n",
       "\t<circle cx=\"2001.16\" cy=\"1112.67\" r=\"26.35\" style=\"fill:#1A476F\"/>\n",
       "\t<circle cx=\"2001.16\" cy=\"1112.67\" r=\"22.03\" style=\"fill:none;stroke:#1A476F;stroke-width:8.64\"/>\n",
       "\t<circle cx=\"495.37\" cy=\"674.95\" r=\"26.35\" style=\"fill:#1A476F\"/>\n",
       "\t<circle cx=\"495.37\" cy=\"674.95\" r=\"22.03\" style=\"fill:none;stroke:#1A476F;stroke-width:8.64\"/>\n",
       "\t<circle cx=\"907.83\" cy=\"1331.59\" r=\"26.35\" style=\"fill:#1A476F\"/>\n",
       "\t<circle cx=\"907.83\" cy=\"1331.59\" r=\"22.03\" style=\"fill:none;stroke:#1A476F;stroke-width:8.64\"/>\n",
       "\t<circle cx=\"1237.87\" cy=\"1258.58\" r=\"26.35\" style=\"fill:#1A476F\"/>\n",
       "\t<circle cx=\"1237.87\" cy=\"1258.58\" r=\"22.03\" style=\"fill:none;stroke:#1A476F;stroke-width:8.64\"/>\n",
       "\t<circle cx=\"2073.31\" cy=\"1842.20\" r=\"26.35\" style=\"fill:#1A476F\"/>\n",
       "\t<circle cx=\"2073.31\" cy=\"1842.20\" r=\"22.03\" style=\"fill:none;stroke:#1A476F;stroke-width:8.64\"/>\n",
       "\t<circle cx=\"2454.95\" cy=\"1842.20\" r=\"26.35\" style=\"fill:#1A476F\"/>\n",
       "\t<circle cx=\"2454.95\" cy=\"1842.20\" r=\"22.03\" style=\"fill:none;stroke:#1A476F;stroke-width:8.64\"/>\n",
       "\t<circle cx=\"2217.72\" cy=\"1842.20\" r=\"26.35\" style=\"fill:#1A476F\"/>\n",
       "\t<circle cx=\"2217.72\" cy=\"1842.20\" r=\"22.03\" style=\"fill:none;stroke:#1A476F;stroke-width:8.64\"/>\n",
       "\t<circle cx=\"1949.56\" cy=\"1769.31\" r=\"26.35\" style=\"fill:#1A476F\"/>\n",
       "\t<circle cx=\"1949.56\" cy=\"1769.31\" r=\"22.03\" style=\"fill:none;stroke:#1A476F;stroke-width:8.64\"/>\n",
       "\t<circle cx=\"1939.29\" cy=\"1769.31\" r=\"26.35\" style=\"fill:#1A476F\"/>\n",
       "\t<circle cx=\"1939.29\" cy=\"1769.31\" r=\"22.03\" style=\"fill:none;stroke:#1A476F;stroke-width:8.64\"/>\n",
       "\t<circle cx=\"2166.12\" cy=\"1769.31\" r=\"26.35\" style=\"fill:#1A476F\"/>\n",
       "\t<circle cx=\"2166.12\" cy=\"1769.31\" r=\"22.03\" style=\"fill:none;stroke:#1A476F;stroke-width:8.64\"/>\n",
       "\t<circle cx=\"1413.22\" cy=\"1404.48\" r=\"26.35\" style=\"fill:#1A476F\"/>\n",
       "\t<circle cx=\"1413.22\" cy=\"1404.48\" r=\"22.03\" style=\"fill:none;stroke:#1A476F;stroke-width:8.64\"/>\n",
       "\t<circle cx=\"1557.64\" cy=\"1915.21\" r=\"26.35\" style=\"fill:#1A476F\"/>\n",
       "\t<circle cx=\"1557.64\" cy=\"1915.21\" r=\"22.03\" style=\"fill:none;stroke:#1A476F;stroke-width:8.64\"/>\n",
       "\t<circle cx=\"773.81\" cy=\"1477.50\" r=\"26.35\" style=\"fill:#1A476F\"/>\n",
       "\t<circle cx=\"773.81\" cy=\"1477.50\" r=\"22.03\" style=\"fill:none;stroke:#1A476F;stroke-width:8.64\"/>\n",
       "\t<circle cx=\"1372.02\" cy=\"1331.59\" r=\"26.35\" style=\"fill:#1A476F\"/>\n",
       "\t<circle cx=\"1372.02\" cy=\"1331.59\" r=\"22.03\" style=\"fill:none;stroke:#1A476F;stroke-width:8.64\"/>\n",
       "\t<circle cx=\"1083.18\" cy=\"1477.50\" r=\"26.35\" style=\"fill:#1A476F\"/>\n",
       "\t<circle cx=\"1083.18\" cy=\"1477.50\" r=\"22.03\" style=\"fill:none;stroke:#1A476F;stroke-width:8.64\"/>\n",
       "\t<circle cx=\"722.21\" cy=\"601.94\" r=\"26.35\" style=\"fill:#1A476F\"/>\n",
       "\t<circle cx=\"722.21\" cy=\"601.94\" r=\"22.03\" style=\"fill:none;stroke:#1A476F;stroke-width:8.64\"/>\n",
       "\t<circle cx=\"990.37\" cy=\"1404.48\" r=\"26.35\" style=\"fill:#1A476F\"/>\n",
       "\t<circle cx=\"990.37\" cy=\"1404.48\" r=\"22.03\" style=\"fill:none;stroke:#1A476F;stroke-width:8.64\"/>\n",
       "\t<circle cx=\"1475.10\" cy=\"1623.40\" r=\"26.35\" style=\"fill:#1A476F\"/>\n",
       "\t<circle cx=\"1475.10\" cy=\"1623.40\" r=\"22.03\" style=\"fill:none;stroke:#1A476F;stroke-width:8.64\"/>\n",
       "\t<circle cx=\"835.68\" cy=\"1623.40\" r=\"26.35\" style=\"fill:#1A476F\"/>\n",
       "\t<circle cx=\"835.68\" cy=\"1623.40\" r=\"22.03\" style=\"fill:none;stroke:#1A476F;stroke-width:8.64\"/>\n",
       "\t<circle cx=\"949.16\" cy=\"1331.59\" r=\"26.35\" style=\"fill:#1A476F\"/>\n",
       "\t<circle cx=\"949.16\" cy=\"1331.59\" r=\"22.03\" style=\"fill:none;stroke:#1A476F;stroke-width:8.64\"/>\n",
       "\t<circle cx=\"454.04\" cy=\"1112.67\" r=\"26.35\" style=\"fill:#1A476F\"/>\n",
       "\t<circle cx=\"454.04\" cy=\"1112.67\" r=\"22.03\" style=\"fill:none;stroke:#1A476F;stroke-width:8.64\"/>\n",
       "\t<circle cx=\"681.00\" cy=\"966.77\" r=\"26.35\" style=\"fill:#1A476F\"/>\n",
       "\t<circle cx=\"681.00\" cy=\"966.77\" r=\"22.03\" style=\"fill:none;stroke:#1A476F;stroke-width:8.64\"/>\n",
       "\t<circle cx=\"2166.12\" cy=\"2134.14\" r=\"26.35\" style=\"fill:#1A476F\"/>\n",
       "\t<circle cx=\"2166.12\" cy=\"2134.14\" r=\"22.03\" style=\"fill:none;stroke:#1A476F;stroke-width:8.64\"/>\n",
       "\t<circle cx=\"526.31\" cy=\"1258.58\" r=\"26.35\" style=\"fill:#1A476F\"/>\n",
       "\t<circle cx=\"526.31\" cy=\"1258.58\" r=\"22.03\" style=\"fill:none;stroke:#1A476F;stroke-width:8.64\"/>\n",
       "\t<circle cx=\"753.14\" cy=\"601.94\" r=\"26.35\" style=\"fill:#1A476F\"/>\n",
       "\t<circle cx=\"753.14\" cy=\"601.94\" r=\"22.03\" style=\"fill:none;stroke:#1A476F;stroke-width:8.64\"/>\n",
       "\t<circle cx=\"1124.52\" cy=\"1842.20\" r=\"26.35\" style=\"fill:#1A476F\"/>\n",
       "\t<circle cx=\"1124.52\" cy=\"1842.20\" r=\"22.03\" style=\"fill:none;stroke:#1A476F;stroke-width:8.64\"/>\n",
       "\t<circle cx=\"907.83\" cy=\"893.75\" r=\"26.35\" style=\"fill:#1A476F\"/>\n",
       "\t<circle cx=\"907.83\" cy=\"893.75\" r=\"22.03\" style=\"fill:none;stroke:#1A476F;stroke-width:8.64\"/>\n",
       "\t<circle cx=\"1392.56\" cy=\"1842.20\" r=\"26.35\" style=\"fill:#1A476F\"/>\n",
       "\t<circle cx=\"1392.56\" cy=\"1842.20\" r=\"22.03\" style=\"fill:none;stroke:#1A476F;stroke-width:8.64\"/>\n",
       "\t<circle cx=\"866.62\" cy=\"1477.50\" r=\"26.35\" style=\"fill:#1A476F\"/>\n",
       "\t<circle cx=\"866.62\" cy=\"1477.50\" r=\"22.03\" style=\"fill:none;stroke:#1A476F;stroke-width:8.64\"/>\n",
       "\t<circle cx=\"742.87\" cy=\"164.22\" r=\"26.35\" style=\"fill:#1A476F\"/>\n",
       "\t<circle cx=\"742.87\" cy=\"164.22\" r=\"22.03\" style=\"fill:none;stroke:#1A476F;stroke-width:8.64\"/>\n",
       "\t<circle cx=\"629.39\" cy=\"1331.59\" r=\"26.35\" style=\"fill:#1A476F\"/>\n",
       "\t<circle cx=\"629.39\" cy=\"1331.59\" r=\"22.03\" style=\"fill:none;stroke:#1A476F;stroke-width:8.64\"/>\n",
       "\t<circle cx=\"691.27\" cy=\"1331.59\" r=\"26.35\" style=\"fill:#1A476F\"/>\n",
       "\t<circle cx=\"691.27\" cy=\"1331.59\" r=\"22.03\" style=\"fill:none;stroke:#1A476F;stroke-width:8.64\"/>\n",
       "\t<circle cx=\"1908.22\" cy=\"1915.21\" r=\"26.35\" style=\"fill:#1A476F\"/>\n",
       "\t<circle cx=\"1908.22\" cy=\"1915.21\" r=\"22.03\" style=\"fill:none;stroke:#1A476F;stroke-width:8.64\"/>\n",
       "\t<line x1=\"390.80\" y1=\"2489.19\" x2=\"390.80\" y2=\"100.86\" style=\"stroke:#000000;stroke-width:5.76\"/>\n",
       "\t<line x1=\"390.80\" y1=\"2425.82\" x2=\"350.83\" y2=\"2425.82\" style=\"stroke:#000000;stroke-width:5.76\"/>\n",
       "\t<text x=\"300.72\" y=\"2425.82\" style=\"font-family:'Helvetica';font-size:99.99px;fill:#000000\" transform=\"rotate(-90 300.72,2425.82)\" text-anchor=\"middle\">10</text>\n",
       "\t<line x1=\"390.80\" y1=\"1696.29\" x2=\"350.83\" y2=\"1696.29\" style=\"stroke:#000000;stroke-width:5.76\"/>\n",
       "\t<text x=\"300.72\" y=\"1696.29\" style=\"font-family:'Helvetica';font-size:99.99px;fill:#000000\" transform=\"rotate(-90 300.72,1696.29)\" text-anchor=\"middle\">20</text>\n",
       "\t<line x1=\"390.80\" y1=\"966.64\" x2=\"350.83\" y2=\"966.64\" style=\"stroke:#000000;stroke-width:5.76\"/>\n",
       "\t<text x=\"300.72\" y=\"966.64\" style=\"font-family:'Helvetica';font-size:99.99px;fill:#000000\" transform=\"rotate(-90 300.72,966.64)\" text-anchor=\"middle\">30</text>\n",
       "\t<line x1=\"390.80\" y1=\"237.11\" x2=\"350.83\" y2=\"237.11\" style=\"stroke:#000000;stroke-width:5.76\"/>\n",
       "\t<text x=\"300.72\" y=\"237.11\" style=\"font-family:'Helvetica';font-size:99.99px;fill:#000000\" transform=\"rotate(-90 300.72,237.11)\" text-anchor=\"middle\">40</text>\n",
       "\t<text x=\"190.71\" y=\"1294.96\" style=\"font-family:'Helvetica';font-size:99.99px;fill:#000000\" transform=\"rotate(-90 190.71,1294.96)\" text-anchor=\"middle\">Mileage (mpg)</text>\n",
       "\t<line x1=\"390.80\" y1=\"2489.19\" x2=\"3859.02\" y2=\"2489.19\" style=\"stroke:#000000;stroke-width:5.76\"/>\n",
       "\t<line x1=\"701.66\" y1=\"2489.19\" x2=\"701.66\" y2=\"2529.16\" style=\"stroke:#000000;stroke-width:5.76\"/>\n",
       "\t<text x=\"701.66\" y=\"2619.14\" style=\"font-family:'Helvetica';font-size:99.99px;fill:#000000\" text-anchor=\"middle\">2,000</text>\n",
       "\t<line x1=\"1732.99\" y1=\"2489.19\" x2=\"1732.99\" y2=\"2529.16\" style=\"stroke:#000000;stroke-width:5.76\"/>\n",
       "\t<text x=\"1732.99\" y=\"2619.14\" style=\"font-family:'Helvetica';font-size:99.99px;fill:#000000\" text-anchor=\"middle\">3,000</text>\n",
       "\t<line x1=\"2764.33\" y1=\"2489.19\" x2=\"2764.33\" y2=\"2529.16\" style=\"stroke:#000000;stroke-width:5.76\"/>\n",
       "\t<text x=\"2764.33\" y=\"2619.14\" style=\"font-family:'Helvetica';font-size:99.99px;fill:#000000\" text-anchor=\"middle\">4,000</text>\n",
       "\t<line x1=\"3795.66\" y1=\"2489.19\" x2=\"3795.66\" y2=\"2529.16\" style=\"stroke:#000000;stroke-width:5.76\"/>\n",
       "\t<text x=\"3795.66\" y=\"2619.14\" style=\"font-family:'Helvetica';font-size:99.99px;fill:#000000\" text-anchor=\"middle\">5,000</text>\n",
       "\t<text x=\"2124.91\" y=\"2729.16\" style=\"font-family:'Helvetica';font-size:99.99px;fill:#000000\" text-anchor=\"middle\">Weight (lbs.)</text>\n",
       "</svg>\n"
      ],
      "text/html": [
       "                <iframe frameborder=\"0\" scrolling=\"no\" height=\"436\" width=\"600\"                srcdoc=\"<html><body>&lt;?xml version=&quot;1.0&quot; encoding=&quot;UTF-8&quot; standalone=&quot;no&quot;?&gt;\n",
       "&lt;!-- This is a Stata 15.0 generated SVG file (http://www.stata.com) --&gt;\n",
       "\n",
       "&lt;svg version=&quot;1.1&quot; width=&quot;600px&quot; height=&quot;436px&quot; viewBox=&quot;0 0 3960 2880&quot; xmlns=&quot;http://www.w3.org/2000/svg&quot; xmlns:xlink=&quot;http://www.w3.org/1999/xlink&quot;&gt;\n",
       "\t&lt;desc&gt;Stata Graph - Graph&lt;/desc&gt;\n",
       "\t&lt;rect x=&quot;0&quot; y=&quot;0&quot; width=&quot;3960&quot; height=&quot;2880&quot; style=&quot;fill:#EAF2F3;stroke:none&quot;/&gt;\n",
       "\t&lt;rect x=&quot;0.00&quot; y=&quot;0.00&quot; width=&quot;3959.88&quot; height=&quot;2880.00&quot; style=&quot;fill:#EAF2F3&quot;/&gt;\n",
       "\t&lt;rect x=&quot;2.88&quot; y=&quot;2.88&quot; width=&quot;3954.12&quot; height=&quot;2874.24&quot; style=&quot;fill:none;stroke:#EAF2F3;stroke-width:5.76&quot;/&gt;\n",
       "\t&lt;rect x=&quot;390.80&quot; y=&quot;100.86&quot; width=&quot;3468.22&quot; height=&quot;2388.33&quot; style=&quot;fill:#FFFFFF&quot;/&gt;\n",
       "\t&lt;rect x=&quot;393.68&quot; y=&quot;103.74&quot; width=&quot;3462.46&quot; height=&quot;2382.57&quot; style=&quot;fill:none;stroke:#FFFFFF;stroke-width:5.76&quot;/&gt;\n",
       "\t&lt;line x1=&quot;390.80&quot; y1=&quot;2425.82&quot; x2=&quot;3859.02&quot; y2=&quot;2425.82&quot; style=&quot;stroke:#EAF2F3;stroke-width:8.64&quot;/&gt;\n",
       "\t&lt;line x1=&quot;390.80&quot; y1=&quot;1696.29&quot; x2=&quot;3859.02&quot; y2=&quot;1696.29&quot; style=&quot;stroke:#EAF2F3;stroke-width:8.64&quot;/&gt;\n",
       "\t&lt;line x1=&quot;390.80&quot; y1=&quot;966.64&quot; x2=&quot;3859.02&quot; y2=&quot;966.64&quot; style=&quot;stroke:#EAF2F3;stroke-width:8.64&quot;/&gt;\n",
       "\t&lt;line x1=&quot;390.80&quot; y1=&quot;237.11&quot; x2=&quot;3859.02&quot; y2=&quot;237.11&quot; style=&quot;stroke:#EAF2F3;stroke-width:8.64&quot;/&gt;\n",
       "\t&lt;circle cx=&quot;1660.72&quot; cy=&quot;1550.39&quot; r=&quot;26.35&quot; style=&quot;fill:#1A476F&quot;/&gt;\n",
       "\t&lt;circle cx=&quot;1660.72&quot; cy=&quot;1550.39&quot; r=&quot;22.03&quot; style=&quot;fill:none;stroke:#1A476F;stroke-width:8.64&quot;/&gt;\n",
       "\t&lt;circle cx=&quot;2093.97&quot; cy=&quot;1915.21&quot; r=&quot;26.35&quot; style=&quot;fill:#1A476F&quot;/&gt;\n",
       "\t&lt;circle cx=&quot;2093.97&quot; cy=&quot;1915.21&quot; r=&quot;22.03&quot; style=&quot;fill:none;stroke:#1A476F;stroke-width:8.64&quot;/&gt;\n",
       "\t&lt;circle cx=&quot;1361.62&quot; cy=&quot;1550.39&quot; r=&quot;26.35&quot; style=&quot;fill:#1A476F&quot;/&gt;\n",
       "\t&lt;circle cx=&quot;1361.62&quot; cy=&quot;1550.39&quot; r=&quot;22.03&quot; style=&quot;fill:none;stroke:#1A476F;stroke-width:8.64&quot;/&gt;\n",
       "\t&lt;circle cx=&quot;1990.77&quot; cy=&quot;1696.29&quot; r=&quot;26.35&quot; style=&quot;fill:#1A476F&quot;/&gt;\n",
       "\t&lt;circle cx=&quot;1990.77&quot; cy=&quot;1696.29&quot; r=&quot;22.03&quot; style=&quot;fill:none;stroke:#1A476F;stroke-width:8.64&quot;/&gt;\n",
       "\t&lt;circle cx=&quot;2846.87&quot; cy=&quot;2061.12&quot; r=&quot;26.35&quot; style=&quot;fill:#1A476F&quot;/&gt;\n",
       "\t&lt;circle cx=&quot;2846.87&quot; cy=&quot;2061.12&quot; r=&quot;22.03&quot; style=&quot;fill:none;stroke:#1A476F;stroke-width:8.64&quot;/&gt;\n",
       "\t&lt;circle cx=&quot;2424.01&quot; cy=&quot;1842.20&quot; r=&quot;26.35&quot; style=&quot;fill:#1A476F&quot;/&gt;\n",
       "\t&lt;circle cx=&quot;2424.01&quot; cy=&quot;1842.20&quot; r=&quot;22.03&quot; style=&quot;fill:none;stroke:#1A476F;stroke-width:8.64&quot;/&gt;\n",
       "\t&lt;circle cx=&quot;938.77&quot; cy=&quot;1258.58&quot; r=&quot;26.35&quot; style=&quot;fill:#1A476F&quot;/&gt;\n",
       "\t&lt;circle cx=&quot;938.77&quot; cy=&quot;1258.58&quot; r=&quot;22.03&quot; style=&quot;fill:none;stroke:#1A476F;stroke-width:8.64&quot;/&gt;\n",
       "\t&lt;circle cx=&quot;2021.70&quot; cy=&quot;1696.29&quot; r=&quot;26.35&quot; style=&quot;fill:#1A476F&quot;/&gt;\n",
       "\t&lt;circle cx=&quot;2021.70&quot; cy=&quot;1696.29&quot; r=&quot;22.03&quot; style=&quot;fill:none;stroke:#1A476F;stroke-width:8.64&quot;/&gt;\n",
       "\t&lt;circle cx=&quot;2640.58&quot; cy=&quot;1988.11&quot; r=&quot;26.35&quot; style=&quot;fill:#1A476F&quot;/&gt;\n",
       "\t&lt;circle cx=&quot;2640.58&quot; cy=&quot;1988.11&quot; r=&quot;22.03&quot; style=&quot;fill:none;stroke:#1A476F;stroke-width:8.64&quot;/&gt;\n",
       "\t&lt;circle cx=&quot;2145.45&quot; cy=&quot;1769.31&quot; r=&quot;26.35&quot; style=&quot;fill:#1A476F&quot;/&gt;\n",
       "\t&lt;circle cx=&quot;2145.45&quot; cy=&quot;1769.31&quot; r=&quot;22.03&quot; style=&quot;fill:none;stroke:#1A476F;stroke-width:8.64&quot;/&gt;\n",
       "\t&lt;circle cx=&quot;3104.64&quot; cy=&quot;2134.14&quot; r=&quot;26.35&quot; style=&quot;fill:#1A476F&quot;/&gt;\n",
       "\t&lt;circle cx=&quot;3104.64&quot; cy=&quot;2134.14&quot; r=&quot;22.03&quot; style=&quot;fill:none;stroke:#1A476F;stroke-width:8.64&quot;/&gt;\n",
       "\t&lt;circle cx=&quot;2661.12&quot; cy=&quot;2134.14&quot; r=&quot;26.35&quot; style=&quot;fill:#1A476F&quot;/&gt;\n",
       "\t&lt;circle cx=&quot;2661.12&quot; cy=&quot;2134.14&quot; r=&quot;22.03&quot; style=&quot;fill:none;stroke:#1A476F;stroke-width:8.64&quot;/&gt;\n",
       "\t&lt;circle cx=&quot;3063.43&quot; cy=&quot;1623.40&quot; r=&quot;26.35&quot; style=&quot;fill:#1A476F&quot;/&gt;\n",
       "\t&lt;circle cx=&quot;3063.43&quot; cy=&quot;1623.40&quot; r=&quot;22.03&quot; style=&quot;fill:none;stroke:#1A476F;stroke-width:8.64&quot;/&gt;\n",
       "\t&lt;circle cx=&quot;815.02&quot; cy=&quot;1039.66&quot; r=&quot;26.35&quot; style=&quot;fill:#1A476F&quot;/&gt;\n",
       "\t&lt;circle cx=&quot;815.02&quot; cy=&quot;1039.66&quot; r=&quot;22.03&quot; style=&quot;fill:none;stroke:#1A476F;stroke-width:8.64&quot;/&gt;\n",
       "\t&lt;circle cx=&quot;2444.56&quot; cy=&quot;1988.11&quot; r=&quot;26.35&quot; style=&quot;fill:#1A476F&quot;/&gt;\n",
       "\t&lt;circle cx=&quot;2444.56&quot; cy=&quot;1988.11&quot; r=&quot;22.03&quot; style=&quot;fill:none;stroke:#1A476F;stroke-width:8.64&quot;/&gt;\n",
       "\t&lt;circle cx=&quot;1918.62&quot; cy=&quot;1550.39&quot; r=&quot;26.35&quot; style=&quot;fill:#1A476F&quot;/&gt;\n",
       "\t&lt;circle cx=&quot;1918.62&quot; cy=&quot;1550.39&quot; r=&quot;22.03&quot; style=&quot;fill:none;stroke:#1A476F;stroke-width:8.64&quot;/&gt;\n",
       "\t&lt;circle cx=&quot;1959.83&quot; cy=&quot;1550.39&quot; r=&quot;26.35&quot; style=&quot;fill:#1A476F&quot;/&gt;\n",
       "\t&lt;circle cx=&quot;1959.83&quot; cy=&quot;1550.39&quot; r=&quot;22.03&quot; style=&quot;fill:none;stroke:#1A476F;stroke-width:8.64&quot;/&gt;\n",
       "\t&lt;circle cx=&quot;1475.10&quot; cy=&quot;1404.48&quot; r=&quot;26.35&quot; style=&quot;fill:#1A476F&quot;/&gt;\n",
       "\t&lt;circle cx=&quot;1475.10&quot; cy=&quot;1404.48&quot; r=&quot;22.03&quot; style=&quot;fill:none;stroke:#1A476F;stroke-width:8.64&quot;/&gt;\n",
       "\t&lt;circle cx=&quot;2176.39&quot; cy=&quot;1769.31&quot; r=&quot;26.35&quot; style=&quot;fill:#1A476F&quot;/&gt;\n",
       "\t&lt;circle cx=&quot;2176.39&quot; cy=&quot;1769.31&quot; r=&quot;22.03&quot; style=&quot;fill:none;stroke:#1A476F;stroke-width:8.64&quot;/&gt;\n",
       "\t&lt;circle cx=&quot;825.41&quot; cy=&quot;966.77&quot; r=&quot;26.35&quot; style=&quot;fill:#1A476F&quot;/&gt;\n",
       "\t&lt;circle cx=&quot;825.41&quot; cy=&quot;966.77&quot; r=&quot;22.03&quot; style=&quot;fill:none;stroke:#1A476F;stroke-width:8.64&quot;/&gt;\n",
       "\t&lt;circle cx=&quot;2351.74&quot; cy=&quot;1842.20&quot; r=&quot;26.35&quot; style=&quot;fill:#1A476F&quot;/&gt;\n",
       "\t&lt;circle cx=&quot;2351.74&quot; cy=&quot;1842.20&quot; r=&quot;22.03&quot; style=&quot;fill:none;stroke:#1A476F;stroke-width:8.64&quot;/&gt;\n",
       "\t&lt;circle cx=&quot;2351.74&quot; cy=&quot;1988.11&quot; r=&quot;26.35&quot; style=&quot;fill:#1A476F&quot;/&gt;\n",
       "\t&lt;circle cx=&quot;2351.74&quot; cy=&quot;1988.11&quot; r=&quot;22.03&quot; style=&quot;fill:none;stroke:#1A476F;stroke-width:8.64&quot;/&gt;\n",
       "\t&lt;circle cx=&quot;2496.16&quot; cy=&quot;1915.21&quot; r=&quot;26.35&quot; style=&quot;fill:#1A476F&quot;/&gt;\n",
       "\t&lt;circle cx=&quot;2496.16&quot; cy=&quot;1915.21&quot; r=&quot;22.03&quot; style=&quot;fill:none;stroke:#1A476F;stroke-width:8.64&quot;/&gt;\n",
       "\t&lt;circle cx=&quot;495.37&quot; cy=&quot;1112.67&quot; r=&quot;26.35&quot; style=&quot;fill:#1A476F&quot;/&gt;\n",
       "\t&lt;circle cx=&quot;495.37&quot; cy=&quot;1112.67&quot; r=&quot;22.03&quot; style=&quot;fill:none;stroke:#1A476F;stroke-width:8.64&quot;/&gt;\n",
       "\t&lt;circle cx=&quot;1372.02&quot; cy=&quot;1623.40&quot; r=&quot;26.35&quot; style=&quot;fill:#1A476F&quot;/&gt;\n",
       "\t&lt;circle cx=&quot;1372.02&quot; cy=&quot;1623.40&quot; r=&quot;22.03&quot; style=&quot;fill:none;stroke:#1A476F;stroke-width:8.64&quot;/&gt;\n",
       "\t&lt;circle cx=&quot;3630.70&quot; cy=&quot;2280.04&quot; r=&quot;26.35&quot; style=&quot;fill:#1A476F&quot;/&gt;\n",
       "\t&lt;circle cx=&quot;3630.70&quot; cy=&quot;2280.04&quot; r=&quot;22.03&quot; style=&quot;fill:none;stroke:#1A476F;stroke-width:8.64&quot;/&gt;\n",
       "\t&lt;circle cx=&quot;3506.83&quot; cy=&quot;2280.04&quot; r=&quot;26.35&quot; style=&quot;fill:#1A476F&quot;/&gt;\n",
       "\t&lt;circle cx=&quot;3506.83&quot; cy=&quot;2280.04&quot; r=&quot;22.03&quot; style=&quot;fill:none;stroke:#1A476F;stroke-width:8.64&quot;/&gt;\n",
       "\t&lt;circle cx=&quot;2588.97&quot; cy=&quot;2134.14&quot; r=&quot;26.35&quot; style=&quot;fill:#1A476F&quot;/&gt;\n",
       "\t&lt;circle cx=&quot;2588.97&quot; cy=&quot;2134.14&quot; r=&quot;22.03&quot; style=&quot;fill:none;stroke:#1A476F;stroke-width:8.64&quot;/&gt;\n",
       "\t&lt;circle cx=&quot;1299.75&quot; cy=&quot;1550.39&quot; r=&quot;26.35&quot; style=&quot;fill:#1A476F&quot;/&gt;\n",
       "\t&lt;circle cx=&quot;1299.75&quot; cy=&quot;1550.39&quot; r=&quot;22.03&quot; style=&quot;fill:none;stroke:#1A476F;stroke-width:8.64&quot;/&gt;\n",
       "\t&lt;circle cx=&quot;2826.20&quot; cy=&quot;2134.14&quot; r=&quot;26.35&quot; style=&quot;fill:#1A476F&quot;/&gt;\n",
       "\t&lt;circle cx=&quot;2826.20&quot; cy=&quot;2134.14&quot; r=&quot;22.03&quot; style=&quot;fill:none;stroke:#1A476F;stroke-width:8.64&quot;/&gt;\n",
       "\t&lt;circle cx=&quot;2475.49&quot; cy=&quot;2061.12&quot; r=&quot;26.35&quot; style=&quot;fill:#1A476F&quot;/&gt;\n",
       "\t&lt;circle cx=&quot;2475.49&quot; cy=&quot;2061.12&quot; r=&quot;22.03&quot; style=&quot;fill:none;stroke:#1A476F;stroke-width:8.64&quot;/&gt;\n",
       "\t&lt;circle cx=&quot;2114.52&quot; cy=&quot;1842.20&quot; r=&quot;26.35&quot; style=&quot;fill:#1A476F&quot;/&gt;\n",
       "\t&lt;circle cx=&quot;2114.52&quot; cy=&quot;1842.20&quot; r=&quot;22.03&quot; style=&quot;fill:none;stroke:#1A476F;stroke-width:8.64&quot;/&gt;\n",
       "\t&lt;circle cx=&quot;2898.35&quot; cy=&quot;2134.14&quot; r=&quot;26.35&quot; style=&quot;fill:#1A476F&quot;/&gt;\n",
       "\t&lt;circle cx=&quot;2898.35&quot; cy=&quot;2134.14&quot; r=&quot;22.03&quot; style=&quot;fill:none;stroke:#1A476F;stroke-width:8.64&quot;/&gt;\n",
       "\t&lt;circle cx=&quot;1557.64&quot; cy=&quot;1696.29&quot; r=&quot;26.35&quot; style=&quot;fill:#1A476F&quot;/&gt;\n",
       "\t&lt;circle cx=&quot;1557.64&quot; cy=&quot;1696.29&quot; r=&quot;22.03&quot; style=&quot;fill:none;stroke:#1A476F;stroke-width:8.64&quot;/&gt;\n",
       "\t&lt;circle cx=&quot;2826.20&quot; cy=&quot;1623.40&quot; r=&quot;26.35&quot; style=&quot;fill:#1A476F&quot;/&gt;\n",
       "\t&lt;circle cx=&quot;2826.20&quot; cy=&quot;1623.40&quot; r=&quot;22.03&quot; style=&quot;fill:none;stroke:#1A476F;stroke-width:8.64&quot;/&gt;\n",
       "\t&lt;circle cx=&quot;2052.64&quot; cy=&quot;1769.31&quot; r=&quot;26.35&quot; style=&quot;fill:#1A476F&quot;/&gt;\n",
       "\t&lt;circle cx=&quot;2052.64&quot; cy=&quot;1769.31&quot; r=&quot;22.03&quot; style=&quot;fill:none;stroke:#1A476F;stroke-width:8.64&quot;/&gt;\n",
       "\t&lt;circle cx=&quot;2042.37&quot; cy=&quot;1769.31&quot; r=&quot;26.35&quot; style=&quot;fill:#1A476F&quot;/&gt;\n",
       "\t&lt;circle cx=&quot;2042.37&quot; cy=&quot;1769.31&quot; r=&quot;22.03&quot; style=&quot;fill:none;stroke:#1A476F;stroke-width:8.64&quot;/&gt;\n",
       "\t&lt;circle cx=&quot;2444.56&quot; cy=&quot;1842.20&quot; r=&quot;26.35&quot; style=&quot;fill:#1A476F&quot;/&gt;\n",
       "\t&lt;circle cx=&quot;2444.56&quot; cy=&quot;1842.20&quot; r=&quot;22.03&quot; style=&quot;fill:none;stroke:#1A476F;stroke-width:8.64&quot;/&gt;\n",
       "\t&lt;circle cx=&quot;2114.52&quot; cy=&quot;1769.31&quot; r=&quot;26.35&quot; style=&quot;fill:#1A476F&quot;/&gt;\n",
       "\t&lt;circle cx=&quot;2114.52&quot; cy=&quot;1769.31&quot; r=&quot;22.03&quot; style=&quot;fill:none;stroke:#1A476F;stroke-width:8.64&quot;/&gt;\n",
       "\t&lt;circle cx=&quot;1454.43&quot; cy=&quot;1404.48&quot; r=&quot;26.35&quot; style=&quot;fill:#1A476F&quot;/&gt;\n",
       "\t&lt;circle cx=&quot;1454.43&quot; cy=&quot;1404.48&quot; r=&quot;22.03&quot; style=&quot;fill:none;stroke:#1A476F;stroke-width:8.64&quot;/&gt;\n",
       "\t&lt;circle cx=&quot;2795.26&quot; cy=&quot;1988.11&quot; r=&quot;26.35&quot; style=&quot;fill:#1A476F&quot;/&gt;\n",
       "\t&lt;circle cx=&quot;2795.26&quot; cy=&quot;1988.11&quot; r=&quot;22.03&quot; style=&quot;fill:none;stroke:#1A476F;stroke-width:8.64&quot;/&gt;\n",
       "\t&lt;circle cx=&quot;2001.16&quot; cy=&quot;1112.67&quot; r=&quot;26.35&quot; style=&quot;fill:#1A476F&quot;/&gt;\n",
       "\t&lt;circle cx=&quot;2001.16&quot; cy=&quot;1112.67&quot; r=&quot;22.03&quot; style=&quot;fill:none;stroke:#1A476F;stroke-width:8.64&quot;/&gt;\n",
       "\t&lt;circle cx=&quot;495.37&quot; cy=&quot;674.95&quot; r=&quot;26.35&quot; style=&quot;fill:#1A476F&quot;/&gt;\n",
       "\t&lt;circle cx=&quot;495.37&quot; cy=&quot;674.95&quot; r=&quot;22.03&quot; style=&quot;fill:none;stroke:#1A476F;stroke-width:8.64&quot;/&gt;\n",
       "\t&lt;circle cx=&quot;907.83&quot; cy=&quot;1331.59&quot; r=&quot;26.35&quot; style=&quot;fill:#1A476F&quot;/&gt;\n",
       "\t&lt;circle cx=&quot;907.83&quot; cy=&quot;1331.59&quot; r=&quot;22.03&quot; style=&quot;fill:none;stroke:#1A476F;stroke-width:8.64&quot;/&gt;\n",
       "\t&lt;circle cx=&quot;1237.87&quot; cy=&quot;1258.58&quot; r=&quot;26.35&quot; style=&quot;fill:#1A476F&quot;/&gt;\n",
       "\t&lt;circle cx=&quot;1237.87&quot; cy=&quot;1258.58&quot; r=&quot;22.03&quot; style=&quot;fill:none;stroke:#1A476F;stroke-width:8.64&quot;/&gt;\n",
       "\t&lt;circle cx=&quot;2073.31&quot; cy=&quot;1842.20&quot; r=&quot;26.35&quot; style=&quot;fill:#1A476F&quot;/&gt;\n",
       "\t&lt;circle cx=&quot;2073.31&quot; cy=&quot;1842.20&quot; r=&quot;22.03&quot; style=&quot;fill:none;stroke:#1A476F;stroke-width:8.64&quot;/&gt;\n",
       "\t&lt;circle cx=&quot;2454.95&quot; cy=&quot;1842.20&quot; r=&quot;26.35&quot; style=&quot;fill:#1A476F&quot;/&gt;\n",
       "\t&lt;circle cx=&quot;2454.95&quot; cy=&quot;1842.20&quot; r=&quot;22.03&quot; style=&quot;fill:none;stroke:#1A476F;stroke-width:8.64&quot;/&gt;\n",
       "\t&lt;circle cx=&quot;2217.72&quot; cy=&quot;1842.20&quot; r=&quot;26.35&quot; style=&quot;fill:#1A476F&quot;/&gt;\n",
       "\t&lt;circle cx=&quot;2217.72&quot; cy=&quot;1842.20&quot; r=&quot;22.03&quot; style=&quot;fill:none;stroke:#1A476F;stroke-width:8.64&quot;/&gt;\n",
       "\t&lt;circle cx=&quot;1949.56&quot; cy=&quot;1769.31&quot; r=&quot;26.35&quot; style=&quot;fill:#1A476F&quot;/&gt;\n",
       "\t&lt;circle cx=&quot;1949.56&quot; cy=&quot;1769.31&quot; r=&quot;22.03&quot; style=&quot;fill:none;stroke:#1A476F;stroke-width:8.64&quot;/&gt;\n",
       "\t&lt;circle cx=&quot;1939.29&quot; cy=&quot;1769.31&quot; r=&quot;26.35&quot; style=&quot;fill:#1A476F&quot;/&gt;\n",
       "\t&lt;circle cx=&quot;1939.29&quot; cy=&quot;1769.31&quot; r=&quot;22.03&quot; style=&quot;fill:none;stroke:#1A476F;stroke-width:8.64&quot;/&gt;\n",
       "\t&lt;circle cx=&quot;2166.12&quot; cy=&quot;1769.31&quot; r=&quot;26.35&quot; style=&quot;fill:#1A476F&quot;/&gt;\n",
       "\t&lt;circle cx=&quot;2166.12&quot; cy=&quot;1769.31&quot; r=&quot;22.03&quot; style=&quot;fill:none;stroke:#1A476F;stroke-width:8.64&quot;/&gt;\n",
       "\t&lt;circle cx=&quot;1413.22&quot; cy=&quot;1404.48&quot; r=&quot;26.35&quot; style=&quot;fill:#1A476F&quot;/&gt;\n",
       "\t&lt;circle cx=&quot;1413.22&quot; cy=&quot;1404.48&quot; r=&quot;22.03&quot; style=&quot;fill:none;stroke:#1A476F;stroke-width:8.64&quot;/&gt;\n",
       "\t&lt;circle cx=&quot;1557.64&quot; cy=&quot;1915.21&quot; r=&quot;26.35&quot; style=&quot;fill:#1A476F&quot;/&gt;\n",
       "\t&lt;circle cx=&quot;1557.64&quot; cy=&quot;1915.21&quot; r=&quot;22.03&quot; style=&quot;fill:none;stroke:#1A476F;stroke-width:8.64&quot;/&gt;\n",
       "\t&lt;circle cx=&quot;773.81&quot; cy=&quot;1477.50&quot; r=&quot;26.35&quot; style=&quot;fill:#1A476F&quot;/&gt;\n",
       "\t&lt;circle cx=&quot;773.81&quot; cy=&quot;1477.50&quot; r=&quot;22.03&quot; style=&quot;fill:none;stroke:#1A476F;stroke-width:8.64&quot;/&gt;\n",
       "\t&lt;circle cx=&quot;1372.02&quot; cy=&quot;1331.59&quot; r=&quot;26.35&quot; style=&quot;fill:#1A476F&quot;/&gt;\n",
       "\t&lt;circle cx=&quot;1372.02&quot; cy=&quot;1331.59&quot; r=&quot;22.03&quot; style=&quot;fill:none;stroke:#1A476F;stroke-width:8.64&quot;/&gt;\n",
       "\t&lt;circle cx=&quot;1083.18&quot; cy=&quot;1477.50&quot; r=&quot;26.35&quot; style=&quot;fill:#1A476F&quot;/&gt;\n",
       "\t&lt;circle cx=&quot;1083.18&quot; cy=&quot;1477.50&quot; r=&quot;22.03&quot; style=&quot;fill:none;stroke:#1A476F;stroke-width:8.64&quot;/&gt;\n",
       "\t&lt;circle cx=&quot;722.21&quot; cy=&quot;601.94&quot; r=&quot;26.35&quot; style=&quot;fill:#1A476F&quot;/&gt;\n",
       "\t&lt;circle cx=&quot;722.21&quot; cy=&quot;601.94&quot; r=&quot;22.03&quot; style=&quot;fill:none;stroke:#1A476F;stroke-width:8.64&quot;/&gt;\n",
       "\t&lt;circle cx=&quot;990.37&quot; cy=&quot;1404.48&quot; r=&quot;26.35&quot; style=&quot;fill:#1A476F&quot;/&gt;\n",
       "\t&lt;circle cx=&quot;990.37&quot; cy=&quot;1404.48&quot; r=&quot;22.03&quot; style=&quot;fill:none;stroke:#1A476F;stroke-width:8.64&quot;/&gt;\n",
       "\t&lt;circle cx=&quot;1475.10&quot; cy=&quot;1623.40&quot; r=&quot;26.35&quot; style=&quot;fill:#1A476F&quot;/&gt;\n",
       "\t&lt;circle cx=&quot;1475.10&quot; cy=&quot;1623.40&quot; r=&quot;22.03&quot; style=&quot;fill:none;stroke:#1A476F;stroke-width:8.64&quot;/&gt;\n",
       "\t&lt;circle cx=&quot;835.68&quot; cy=&quot;1623.40&quot; r=&quot;26.35&quot; style=&quot;fill:#1A476F&quot;/&gt;\n",
       "\t&lt;circle cx=&quot;835.68&quot; cy=&quot;1623.40&quot; r=&quot;22.03&quot; style=&quot;fill:none;stroke:#1A476F;stroke-width:8.64&quot;/&gt;\n",
       "\t&lt;circle cx=&quot;949.16&quot; cy=&quot;1331.59&quot; r=&quot;26.35&quot; style=&quot;fill:#1A476F&quot;/&gt;\n",
       "\t&lt;circle cx=&quot;949.16&quot; cy=&quot;1331.59&quot; r=&quot;22.03&quot; style=&quot;fill:none;stroke:#1A476F;stroke-width:8.64&quot;/&gt;\n",
       "\t&lt;circle cx=&quot;454.04&quot; cy=&quot;1112.67&quot; r=&quot;26.35&quot; style=&quot;fill:#1A476F&quot;/&gt;\n",
       "\t&lt;circle cx=&quot;454.04&quot; cy=&quot;1112.67&quot; r=&quot;22.03&quot; style=&quot;fill:none;stroke:#1A476F;stroke-width:8.64&quot;/&gt;\n",
       "\t&lt;circle cx=&quot;681.00&quot; cy=&quot;966.77&quot; r=&quot;26.35&quot; style=&quot;fill:#1A476F&quot;/&gt;\n",
       "\t&lt;circle cx=&quot;681.00&quot; cy=&quot;966.77&quot; r=&quot;22.03&quot; style=&quot;fill:none;stroke:#1A476F;stroke-width:8.64&quot;/&gt;\n",
       "\t&lt;circle cx=&quot;2166.12&quot; cy=&quot;2134.14&quot; r=&quot;26.35&quot; style=&quot;fill:#1A476F&quot;/&gt;\n",
       "\t&lt;circle cx=&quot;2166.12&quot; cy=&quot;2134.14&quot; r=&quot;22.03&quot; style=&quot;fill:none;stroke:#1A476F;stroke-width:8.64&quot;/&gt;\n",
       "\t&lt;circle cx=&quot;526.31&quot; cy=&quot;1258.58&quot; r=&quot;26.35&quot; style=&quot;fill:#1A476F&quot;/&gt;\n",
       "\t&lt;circle cx=&quot;526.31&quot; cy=&quot;1258.58&quot; r=&quot;22.03&quot; style=&quot;fill:none;stroke:#1A476F;stroke-width:8.64&quot;/&gt;\n",
       "\t&lt;circle cx=&quot;753.14&quot; cy=&quot;601.94&quot; r=&quot;26.35&quot; style=&quot;fill:#1A476F&quot;/&gt;\n",
       "\t&lt;circle cx=&quot;753.14&quot; cy=&quot;601.94&quot; r=&quot;22.03&quot; style=&quot;fill:none;stroke:#1A476F;stroke-width:8.64&quot;/&gt;\n",
       "\t&lt;circle cx=&quot;1124.52&quot; cy=&quot;1842.20&quot; r=&quot;26.35&quot; style=&quot;fill:#1A476F&quot;/&gt;\n",
       "\t&lt;circle cx=&quot;1124.52&quot; cy=&quot;1842.20&quot; r=&quot;22.03&quot; style=&quot;fill:none;stroke:#1A476F;stroke-width:8.64&quot;/&gt;\n",
       "\t&lt;circle cx=&quot;907.83&quot; cy=&quot;893.75&quot; r=&quot;26.35&quot; style=&quot;fill:#1A476F&quot;/&gt;\n",
       "\t&lt;circle cx=&quot;907.83&quot; cy=&quot;893.75&quot; r=&quot;22.03&quot; style=&quot;fill:none;stroke:#1A476F;stroke-width:8.64&quot;/&gt;\n",
       "\t&lt;circle cx=&quot;1392.56&quot; cy=&quot;1842.20&quot; r=&quot;26.35&quot; style=&quot;fill:#1A476F&quot;/&gt;\n",
       "\t&lt;circle cx=&quot;1392.56&quot; cy=&quot;1842.20&quot; r=&quot;22.03&quot; style=&quot;fill:none;stroke:#1A476F;stroke-width:8.64&quot;/&gt;\n",
       "\t&lt;circle cx=&quot;866.62&quot; cy=&quot;1477.50&quot; r=&quot;26.35&quot; style=&quot;fill:#1A476F&quot;/&gt;\n",
       "\t&lt;circle cx=&quot;866.62&quot; cy=&quot;1477.50&quot; r=&quot;22.03&quot; style=&quot;fill:none;stroke:#1A476F;stroke-width:8.64&quot;/&gt;\n",
       "\t&lt;circle cx=&quot;742.87&quot; cy=&quot;164.22&quot; r=&quot;26.35&quot; style=&quot;fill:#1A476F&quot;/&gt;\n",
       "\t&lt;circle cx=&quot;742.87&quot; cy=&quot;164.22&quot; r=&quot;22.03&quot; style=&quot;fill:none;stroke:#1A476F;stroke-width:8.64&quot;/&gt;\n",
       "\t&lt;circle cx=&quot;629.39&quot; cy=&quot;1331.59&quot; r=&quot;26.35&quot; style=&quot;fill:#1A476F&quot;/&gt;\n",
       "\t&lt;circle cx=&quot;629.39&quot; cy=&quot;1331.59&quot; r=&quot;22.03&quot; style=&quot;fill:none;stroke:#1A476F;stroke-width:8.64&quot;/&gt;\n",
       "\t&lt;circle cx=&quot;691.27&quot; cy=&quot;1331.59&quot; r=&quot;26.35&quot; style=&quot;fill:#1A476F&quot;/&gt;\n",
       "\t&lt;circle cx=&quot;691.27&quot; cy=&quot;1331.59&quot; r=&quot;22.03&quot; style=&quot;fill:none;stroke:#1A476F;stroke-width:8.64&quot;/&gt;\n",
       "\t&lt;circle cx=&quot;1908.22&quot; cy=&quot;1915.21&quot; r=&quot;26.35&quot; style=&quot;fill:#1A476F&quot;/&gt;\n",
       "\t&lt;circle cx=&quot;1908.22&quot; cy=&quot;1915.21&quot; r=&quot;22.03&quot; style=&quot;fill:none;stroke:#1A476F;stroke-width:8.64&quot;/&gt;\n",
       "\t&lt;line x1=&quot;390.80&quot; y1=&quot;2489.19&quot; x2=&quot;390.80&quot; y2=&quot;100.86&quot; style=&quot;stroke:#000000;stroke-width:5.76&quot;/&gt;\n",
       "\t&lt;line x1=&quot;390.80&quot; y1=&quot;2425.82&quot; x2=&quot;350.83&quot; y2=&quot;2425.82&quot; style=&quot;stroke:#000000;stroke-width:5.76&quot;/&gt;\n",
       "\t&lt;text x=&quot;300.72&quot; y=&quot;2425.82&quot; style=&quot;font-family:&#x27;Helvetica&#x27;;font-size:99.99px;fill:#000000&quot; transform=&quot;rotate(-90 300.72,2425.82)&quot; text-anchor=&quot;middle&quot;&gt;10&lt;/text&gt;\n",
       "\t&lt;line x1=&quot;390.80&quot; y1=&quot;1696.29&quot; x2=&quot;350.83&quot; y2=&quot;1696.29&quot; style=&quot;stroke:#000000;stroke-width:5.76&quot;/&gt;\n",
       "\t&lt;text x=&quot;300.72&quot; y=&quot;1696.29&quot; style=&quot;font-family:&#x27;Helvetica&#x27;;font-size:99.99px;fill:#000000&quot; transform=&quot;rotate(-90 300.72,1696.29)&quot; text-anchor=&quot;middle&quot;&gt;20&lt;/text&gt;\n",
       "\t&lt;line x1=&quot;390.80&quot; y1=&quot;966.64&quot; x2=&quot;350.83&quot; y2=&quot;966.64&quot; style=&quot;stroke:#000000;stroke-width:5.76&quot;/&gt;\n",
       "\t&lt;text x=&quot;300.72&quot; y=&quot;966.64&quot; style=&quot;font-family:&#x27;Helvetica&#x27;;font-size:99.99px;fill:#000000&quot; transform=&quot;rotate(-90 300.72,966.64)&quot; text-anchor=&quot;middle&quot;&gt;30&lt;/text&gt;\n",
       "\t&lt;line x1=&quot;390.80&quot; y1=&quot;237.11&quot; x2=&quot;350.83&quot; y2=&quot;237.11&quot; style=&quot;stroke:#000000;stroke-width:5.76&quot;/&gt;\n",
       "\t&lt;text x=&quot;300.72&quot; y=&quot;237.11&quot; style=&quot;font-family:&#x27;Helvetica&#x27;;font-size:99.99px;fill:#000000&quot; transform=&quot;rotate(-90 300.72,237.11)&quot; text-anchor=&quot;middle&quot;&gt;40&lt;/text&gt;\n",
       "\t&lt;text x=&quot;190.71&quot; y=&quot;1294.96&quot; style=&quot;font-family:&#x27;Helvetica&#x27;;font-size:99.99px;fill:#000000&quot; transform=&quot;rotate(-90 190.71,1294.96)&quot; text-anchor=&quot;middle&quot;&gt;Mileage (mpg)&lt;/text&gt;\n",
       "\t&lt;line x1=&quot;390.80&quot; y1=&quot;2489.19&quot; x2=&quot;3859.02&quot; y2=&quot;2489.19&quot; style=&quot;stroke:#000000;stroke-width:5.76&quot;/&gt;\n",
       "\t&lt;line x1=&quot;701.66&quot; y1=&quot;2489.19&quot; x2=&quot;701.66&quot; y2=&quot;2529.16&quot; style=&quot;stroke:#000000;stroke-width:5.76&quot;/&gt;\n",
       "\t&lt;text x=&quot;701.66&quot; y=&quot;2619.14&quot; style=&quot;font-family:&#x27;Helvetica&#x27;;font-size:99.99px;fill:#000000&quot; text-anchor=&quot;middle&quot;&gt;2,000&lt;/text&gt;\n",
       "\t&lt;line x1=&quot;1732.99&quot; y1=&quot;2489.19&quot; x2=&quot;1732.99&quot; y2=&quot;2529.16&quot; style=&quot;stroke:#000000;stroke-width:5.76&quot;/&gt;\n",
       "\t&lt;text x=&quot;1732.99&quot; y=&quot;2619.14&quot; style=&quot;font-family:&#x27;Helvetica&#x27;;font-size:99.99px;fill:#000000&quot; text-anchor=&quot;middle&quot;&gt;3,000&lt;/text&gt;\n",
       "\t&lt;line x1=&quot;2764.33&quot; y1=&quot;2489.19&quot; x2=&quot;2764.33&quot; y2=&quot;2529.16&quot; style=&quot;stroke:#000000;stroke-width:5.76&quot;/&gt;\n",
       "\t&lt;text x=&quot;2764.33&quot; y=&quot;2619.14&quot; style=&quot;font-family:&#x27;Helvetica&#x27;;font-size:99.99px;fill:#000000&quot; text-anchor=&quot;middle&quot;&gt;4,000&lt;/text&gt;\n",
       "\t&lt;line x1=&quot;3795.66&quot; y1=&quot;2489.19&quot; x2=&quot;3795.66&quot; y2=&quot;2529.16&quot; style=&quot;stroke:#000000;stroke-width:5.76&quot;/&gt;\n",
       "\t&lt;text x=&quot;3795.66&quot; y=&quot;2619.14&quot; style=&quot;font-family:&#x27;Helvetica&#x27;;font-size:99.99px;fill:#000000&quot; text-anchor=&quot;middle&quot;&gt;5,000&lt;/text&gt;\n",
       "\t&lt;text x=&quot;2124.91&quot; y=&quot;2729.16&quot; style=&quot;font-family:&#x27;Helvetica&#x27;;font-size:99.99px;fill:#000000&quot; text-anchor=&quot;middle&quot;&gt;Weight (lbs.)&lt;/text&gt;\n",
       "&lt;/svg&gt;\n",
       "</body></html>\"></iframe>\n"
      ],
      "text/plain": [
       "This front-end cannot display the desired image type."
      ]
     },
     "metadata": {
      "image/svg+xml": {
       "height": 436,
       "width": 600
      },
      "text/html": {
       "height": 436,
       "width": 600
      }
     },
     "output_type": "display_data"
    }
   ],
   "source": [
    "scatter mpg weight"
   ]
  },
  {
   "cell_type": "markdown",
   "metadata": {
    "slideshow": {
     "slide_type": "slide"
    }
   },
   "source": [
    "## Exporting"
   ]
  },
  {
   "cell_type": "markdown",
   "metadata": {
    "lang": "en",
    "slideshow": {
     "slide_type": "slide"
    }
   },
   "source": [
    "## Using `ipypublish` to Get Publication Ready PDFs\n",
    "\n",
    "- `ipypublish` is a utility developed for Jupyter Notebooks to make nice looking documents\n",
    "- To get this working, we need to use `pip`\n",
    "    - In the conda console, type `pip install ipypublish`\n",
    "    - Hopefully it'll work "
   ]
  },
  {
   "cell_type": "markdown",
   "metadata": {
    "ExecuteTime": {
     "end_time": "2019-01-08T00:26:56.799979Z",
     "start_time": "2019-01-08T00:26:56.778190Z"
    },
    "lang": "en",
    "slideshow": {
     "slide_type": "subslide"
    }
   },
   "source": [
    "- Doing this requires playing with the JSON code of a cell itself (called the metadata).\n",
    "- This allows a subsequent PDF output to be processed through latex, without any code cells and with figure and table environments."
   ]
  },
  {
   "cell_type": "markdown",
   "metadata": {
    "slideshow": {
     "slide_type": "slide"
    }
   },
   "source": [
    "## Port-forwarding and setting up Jupyter to work on a server\n",
    "\n",
    "- Many people might have servers in their universities/organizations that are more powerful than a laptop.\n",
    "- Jupyter allows the ability to run a notebook locally (on your laptop screen), but using the power of the server.\n",
    "    - This requires jupyter being installed on the server\n",
    "    - This isn't a difficult thing to do for a sysadmin, so it's worth finding out whether that's possible"
   ]
  },
  {
   "cell_type": "markdown",
   "metadata": {
    "slideshow": {
     "slide_type": "slide"
    }
   },
   "source": [
    "## Setting up jupyter on a server\n",
    "\n",
    "- The first thing you need to do is log on to the server and start a jupyter instance:\n",
    "\n",
    "`jupyter notebook --no-browser --port=8888`\n",
    "\n",
    "- This tells the server to start an instance of jupyter, without a browser (we won't need it, nor can a server open up a browser window), in port 8888 (this will be important later)\n",
    "- For Mac users, you can use `ssh` to finish the process. Just type:\n",
    "`ssh username@host -L 8888:localhost:8888`\n",
    "- Which will forward your computer 8888 port, to the server's 8888 port.\n",
    "\n",
    "- For Windows, ssh also exists, but you will need to enable it.\n",
    "    - head to Settings > Apps and click “Manage optional features” under Apps & features.\n",
    "    - Click Add a Feature, and find OpenSSH\n",
    "- Then use the same command as for Macs:\n",
    "`ssh username@host -L 8888:localhost:8888`\n",
    "\n",
    "- Then go to your browser:\n",
    "    - `localhost:8888` and you should be taken to a Jupyter page and prompted for a token. \n",
    "    - You can find this token in the window where you started Jupyter on the server\n",
    "        - Copy and paste this token into the prompt, and VOILA!\n",
    "- Now you have Jupyter running on your computer's browser window, but with the power of the server!\n"
   ]
  },
  {
   "cell_type": "markdown",
   "metadata": {
    "slideshow": {
     "slide_type": "slide"
    }
   },
   "source": [
    "## Advanced Techniques\n",
    "\n",
    "- Jinja Templates\n",
    "    - Allows the control of how a notebook is exported using the Jinja templating language\n",
    "- Downloading new kernals (R, Python)\n",
    "    - All the above applies (with even more features with Python)"
   ]
  },
  {
   "cell_type": "markdown",
   "metadata": {
    "slideshow": {
     "slide_type": "slide"
    }
   },
   "source": [
    "## The Next Frontier\n",
    "\n",
    "- Although Jupyter Notebooks are very popular and much science has been done with them (including an economics textbook: more [here](https://quantecon.org))\n",
    "- the next generation Jupyter is Jupyter Lab, while allows extensions to be made better, and for the environment to be even better for data analysis."
   ]
  },
  {
   "cell_type": "code",
   "execution_count": 26,
   "metadata": {
    "ExecuteTime": {
     "end_time": "2019-01-08T21:14:34.841710Z",
     "start_time": "2019-01-08T21:14:34.794040Z"
    }
   },
   "outputs": [],
   "source": [
    "local hello = 3"
   ]
  },
  {
   "cell_type": "markdown",
   "metadata": {
    "variables": {
     "di \"`hello'\"": "3"
    }
   },
   "source": [
    "I have {{di \"`hello'\"}} kittens."
   ]
  }
 ],
 "metadata": {
  "celltoolbar": "Edit Metadata",
  "hide_input": false,
  "kernelspec": {
   "display_name": "Stata",
   "language": "stata",
   "name": "stata"
  },
  "language_info": {
   "codemirror_mode": "stata",
   "file_extension": ".do",
   "mimetype": "text/x-stata",
   "name": "stata",
   "version": "15.1"
  },
  "latex_envs": {
   "LaTeX_envs_menu_present": true,
   "autoclose": false,
   "autocomplete": true,
   "bibliofile": "biblio.bib",
   "cite_by": "apalike",
   "current_citInitial": 1,
   "eqLabelWithNumbers": true,
   "eqNumInitial": 1,
   "hotkeys": {
    "equation": "Ctrl-E",
    "itemize": "Ctrl-I"
   },
   "labels_anchors": false,
   "latex_user_defs": false,
   "report_style_numbering": false,
   "user_envs_cfg": false
  },
  "nbTranslate": {
   "displayLangs": [
    "en"
   ],
   "hotkey": "alt-t",
   "langInMainMenu": true,
   "sourceLang": "en",
   "targetLang": "fr",
   "useGoogleTranslate": true
  },
  "varInspector": {
   "cols": {
    "lenName": 16,
    "lenType": 16,
    "lenVar": 40
   },
   "kernels_config": {
    "python": {
     "delete_cmd_postfix": "",
     "delete_cmd_prefix": "del ",
     "library": "var_list.py",
     "varRefreshCmd": "print(var_dic_list())"
    },
    "r": {
     "delete_cmd_postfix": ") ",
     "delete_cmd_prefix": "rm(",
     "library": "var_list.r",
     "varRefreshCmd": "cat(var_dic_list()) "
    }
   },
   "types_to_exclude": [
    "module",
    "function",
    "builtin_function_or_method",
    "instance",
    "_Feature"
   ],
   "window_display": false
  }
 },
 "nbformat": 4,
 "nbformat_minor": 2
}
